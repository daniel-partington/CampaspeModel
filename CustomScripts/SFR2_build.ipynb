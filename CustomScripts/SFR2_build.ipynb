{
 "cells": [
  {
   "cell_type": "markdown",
   "metadata": {},
   "source": [
    "# Building the SFR2 package\n",
    "\n",
    "Steps to building the SFR2 package using:\n",
    "1. DEM of surface\n",
    "    - This will be used to set the elevation of the river bed and the slope of the river bed along each reach\n",
    "2. Streamflow info, i.e. gaugings, any other data\n",
    "    - This will be used to set inflow from Lake Eppalock dam and also to provide observations for model optimisation\n",
    "3. Polyline of streams\n",
    "    - This will be used to map the stream to grid and with the combination of the DEM to sort out the ordering from one reach to       the next\n",
    "\n",
    "### Some assumptions that effect choice of SFR2 parameters:\n",
    "Flux between surface and subsurface is saturated, i.e. we don't consider the unsaturated zone, or any options parameters associated with this in SFR2.\n",
    "\n",
    "\n",
    "### Data requirements:\n",
    "As this package will be required for both a steady state and transient model we will need slightly different setups and parameters.\n",
    "\n",
    "For the steady state 1a. will be specified as <code>REACHINPUT</code>, but for the transient model, 1a. will be specified as <code>REACHINPUT TRANSROUTE</code>\n",
    "\n",
    "1b. <code>TABFILES NUMTAB MAXVAL</code>\n",
    "    Input flows can be specified to segements using tabular data here. This will come from processing the flow data inline with     temporal setup of the model\n",
    "\n",
    "1c. <code>NSTRM NSS NSFRPAR NPARSEG CONST DLEAK ISTCB1 ISTCB2 {ISFROPT} {NSTRAIL} {ISUZN} {NSFRSETS} {IRTFLG} {NUMTIM} {WEIGHT} {FLWTOL}</code>\n",
    "\n",
    "\n",
    "\n",
    "The main bits to put together for this outside of the flags and solver options are:\n",
    "1. reach_data\n",
    "    - <code>k,i,j,iseg,ireach,rchlen,strtop,slope,strthick,strhc1 </code>\n",
    "    - <code>k,i,j</code> come from mapping a polyline to the grid\n",
    "    - <code>iseg</code> segments have to be defined, which we can do for each reach between gauges.\n",
    "    - <code>rchlen</code> comes from the mapping\n",
    "    - <code>strtop</code> is the streambed elevation\n",
    "    - <code>strthick</code> is the thickness of the streambed\n",
    "    - <code>strhc1</code> is the hydraulic conductivity of the streambed.\n",
    "2. segment_data\n",
    "    - <code>nseg,icalc,outseg,iupseg,nstrpts,flow,runoff,etsw,pptsw,roughch,roughbk,cdpth,fdpth,awdth,bwdth,width1,width2</code>\n",
    "    - nseg\n",
    "    \n",
    "3. channel_geometry_data,\n",
    "4. channel_flow_data,\n",
    "5. dataset_5,\n",
    "\n"
   ]
  },
  {
   "cell_type": "code",
   "execution_count": 4,
   "metadata": {
    "collapsed": true
   },
   "outputs": [],
   "source": [
    "import os\n",
    "import subprocess\n",
    "from osgeo import gdal, osr\n",
    "import pandas as pd\n",
    "import numpy as np"
   ]
  },
  {
   "cell_type": "markdown",
   "metadata": {},
   "source": [
    "## Processing the surface DEM \n",
    "This is to translate from the much finer DEM to the grid of the model and rebin the raster pixels using the minimum value"
   ]
  },
  {
   "cell_type": "code",
   "execution_count": 5,
   "metadata": {
    "collapsed": true
   },
   "outputs": [],
   "source": [
    "from HydroModelBuilder.GISInterface.GDALInterface import reproject"
   ]
  },
  {
   "cell_type": "code",
   "execution_count": 8,
   "metadata": {
    "collapsed": false
   },
   "outputs": [],
   "source": [
    "# Test for raster reprojection\n",
    "surf_file = r\"C:\\Workspace\\part0075\\MDB modelling\\ESRI_GRID_raw\\ESRI_GRID\\sur_1t\"\n",
    "pixel_spacing = 5000\n",
    "epsg_from = None\n",
    "epsg_to = 28355\n",
    "\n",
    "Proj_CS = osr.SpatialReference()\n",
    "# 28355 is the code for gda94 mga zone 55;\n",
    "# http://spatialreference.org/ref/epsg/gda94-mga-zone-55/\n",
    "Proj_CS.ImportFromEPSG(28355)\n",
    "target_srs = Proj_CS.ExportToWkt()"
   ]
  },
  {
   "cell_type": "code",
   "execution_count": null,
   "metadata": {
    "collapsed": true
   },
   "outputs": [],
   "source": []
  },
  {
   "cell_type": "code",
   "execution_count": null,
   "metadata": {
    "collapsed": true
   },
   "outputs": [],
   "source": []
  },
  {
   "cell_type": "code",
   "execution_count": null,
   "metadata": {
    "collapsed": true
   },
   "outputs": [],
   "source": [
    "\n",
    "# -te xmin ymin xmax ymax # Set bounds\n",
    "# -tr xres yres #set output file resolution (in target georeferenced units)\n",
    "# -r resampling_method  # includes min\n",
    "\n",
    "command = \"gdalwarp -t_srs \" + target_srs + \" -te \" + \" {0} {1} {2} {3} \".format(xmin, ymin, xmax, ymax) + \\\n",
    "          surf_file + '\" \"' + sur_min_file + '\" -r min'\n",
    "print(command) \n",
    "\n",
    "try:\n",
    "    subprocess.check_output(command, shell=True)\n",
    "except subprocess.CalledProcessError as e:\n",
    "    print(e)\n"
   ]
  }
 ],
 "metadata": {
  "kernelspec": {
   "display_name": "Python 2",
   "language": "python",
   "name": "python2"
  },
  "language_info": {
   "codemirror_mode": {
    "name": "ipython",
    "version": 2
   },
   "file_extension": ".py",
   "mimetype": "text/x-python",
   "name": "python",
   "nbconvert_exporter": "python",
   "pygments_lexer": "ipython2",
   "version": "2.7.13"
  }
 },
 "nbformat": 4,
 "nbformat_minor": 2
}
