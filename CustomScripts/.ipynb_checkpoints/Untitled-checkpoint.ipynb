{
 "cells": [
  {
   "cell_type": "markdown",
   "metadata": {},
   "source": [
    "# Load and process C14 data\n",
    "This custom script loads in C14 data for the Lower Campaspe Valley\n",
    "\n",
    "First, we bring the necessary packages for the script which are pandas and matplotlib for this script\n",
    "\n"
   ]
  },
  {
   "cell_type": "code",
   "execution_count": 9,
   "metadata": {
    "collapsed": true
   },
   "outputs": [],
   "source": [
    "%matplotlib inline\n",
    "\n",
    "import pandas as pd\n",
    "import matplotlib.pyplot as plt"
   ]
  },
  {
   "cell_type": "markdown",
   "metadata": {},
   "source": [
    "Second, we define the location of the data file to C14data:"
   ]
  },
  {
   "cell_type": "code",
   "execution_count": 3,
   "metadata": {
    "collapsed": true
   },
   "outputs": [],
   "source": [
    "C14data = r\"C:\\Workspace\\part0075\\MDB modelling\\Campaspe_data\\Chemistry\\C14_locs.xlsx\""
   ]
  },
  {
   "cell_type": "markdown",
   "metadata": {},
   "source": [
    "Next we read in the data to a pandas dataframe:"
   ]
  },
  {
   "cell_type": "code",
   "execution_count": 5,
   "metadata": {
    "collapsed": true
   },
   "outputs": [],
   "source": [
    "df_C14 = pd.read_excel(C14data)"
   ]
  },
  {
   "cell_type": "markdown",
   "metadata": {},
   "source": [
    "Now, we can print this to check it's contents:"
   ]
  },
  {
   "cell_type": "code",
   "execution_count": 6,
   "metadata": {
    "collapsed": false
   },
   "outputs": [
    {
     "name": "stdout",
     "output_type": "stream",
     "text": [
      "    Bore_id  zone55_northing  zone55_easting  avg_screen(m)  depth from WT(m)  \\\n",
      "0     47247   5985194.000000   294390.600000         65.200         48.769213   \n",
      "1     47253   5985026.074000   287599.966000        126.000        105.870862   \n",
      "2     60441   5971384.000000   253913.200000        100.905         98.359366   \n",
      "3     60442   5971484.388000   253913.244700         50.500         48.633662   \n",
      "4     60443   5971484.388000   253913.244700         13.000         10.981549   \n",
      "5     62589   5956173.857000   284433.876000         90.000         76.628882   \n",
      "6     62600   5956166.000000   284430.500000         11.000         -1.191808   \n",
      "7     65874   5943484.349000   270213.229500          8.000          4.703419   \n",
      "8     65875   5941561.860000   280090.120000         58.500         40.983026   \n",
      "9     65876   5941567.000000   280091.500000         31.000         19.083640   \n",
      "10    79327   5991068.000000   296065.200000         76.500         61.719742   \n",
      "11    79328   5991075.000000   296065.100000         28.750         22.156896   \n",
      "12    87806   6015614.000000   272118.900000        159.000        153.420593   \n",
      "13    87807   6015623.000000   272120.900000        125.000        119.629282   \n",
      "14    87808   6015632.320000   272122.290000         55.000         50.766315   \n",
      "15    87809   6015642.000000   272122.300000         13.500         10.250783   \n",
      "16    95040   6001621.000000   266882.400000         84.000         79.223190   \n",
      "17    95041   6001626.000000   266879.500000         67.500         62.601121   \n",
      "18    95042   6001631.000000   266873.000000         23.000         13.999478   \n",
      "19   102827   6005302.000000   289161.000000        111.000        102.790932   \n",
      "20   102828   6005324.000000   289144.000000        163.495        155.607011   \n",
      "21   102829   6005287.000000   289158.000000         72.000         63.937046   \n",
      "22   102830   6005276.000000   289159.000000         19.000         10.165958   \n",
      "23    53671   5955346.000000   308287.600000         46.000         43.474009   \n",
      "24    54456   5960281.000000   312332.000000         52.000         48.497367   \n",
      "25    54459   5960281.000000   312319.800000          8.500          5.299597   \n",
      "26    57134   5960144.000000   305553.300000         57.000         54.077597   \n",
      "27    62036   5985414.000000   303281.100000        112.000         97.538921   \n",
      "28    62037   5985412.000000   303247.000000         12.950          8.703089   \n",
      "29    64387   5966750.000000   315394.300000         89.750         86.687053   \n",
      "..      ...              ...             ...            ...               ...   \n",
      "32    73429   5982484.010000   313446.310000          9.900          8.047100   \n",
      "33    73537   5980931.000000   320829.500000         50.500         46.252897   \n",
      "34    73538   5969945.000000   320333.100000         66.250         63.343667   \n",
      "35    95169   5975003.000000   312383.500000         74.000         62.096827   \n",
      "36    95170   5975001.000000   312383.600000          6.660          4.326465   \n",
      "37    95588   5987520.000000   314176.800000         77.000         64.622870   \n",
      "38    95590   5987523.000000   314176.000000          7.000          4.023131   \n",
      "39    97119   5991242.000000   278419.400000        124.500        110.822286   \n",
      "40   105701   5999064.000000   313930.300000        113.000        107.128684   \n",
      "41   105702   5999063.000000   313932.700000          8.500          3.381880   \n",
      "42    36077   6037224.431000   249073.310500         18.470         16.057932   \n",
      "43    51718   5944968.342022   232565.682823         45.000         45.000000   \n",
      "44    51719   5944968.383316   232567.768289         21.000         21.000000   \n",
      "45    54350   5984520.144140   237387.411189         40.000         35.623081   \n",
      "46    54351   5984526.070163   237386.041730         12.500          9.607164   \n",
      "47    60442   5971484.388000   253913.244700         50.500         48.633662   \n",
      "48    60443   5971484.388000   253913.244700         13.000         10.981549   \n",
      "49    68963   5965007.580000   268154.060000         75.000         69.168264   \n",
      "50     5688   5976584.356000   290313.275400          9.000          8.069012   \n",
      "51    89481   5902944.335649   277893.188111            NaN               NaN   \n",
      "52    86139   5946450.866823   280901.240256            NaN               NaN   \n",
      "53    62595   5951261.130991   283997.225452            NaN               NaN   \n",
      "54    60125   5965551.917717   287607.316433            NaN               NaN   \n",
      "55   110151   5972380.038853   289636.940953            NaN               NaN   \n",
      "56   110152   5972379.366791   289641.266680            NaN               NaN   \n",
      "57   110153   5972379.212434   289644.053586            NaN               NaN   \n",
      "58    60132   5972328.691215   285918.577775            NaN               NaN   \n",
      "59   109519   5972412.216443   291136.544976            NaN               NaN   \n",
      "60    61957   5997369.762747   298967.833388            NaN               NaN   \n",
      "61    89441   5899163.249494   280347.174002            NaN               NaN   \n",
      "\n",
      "     Age (years)  \n",
      "0    5310.938142  \n",
      "1    5631.390768  \n",
      "2    6749.262286  \n",
      "3   24440.424366  \n",
      "4    2647.022472  \n",
      "5    2466.816043  \n",
      "6    -651.503860  \n",
      "7    -171.801823  \n",
      "8     415.326179  \n",
      "9    2356.149831  \n",
      "10   7073.485903  \n",
      "11   3055.478862  \n",
      "12  14844.968009  \n",
      "13  20675.170965  \n",
      "14  17458.857602  \n",
      "15   -212.186088  \n",
      "16  22723.943951  \n",
      "17  27253.776166  \n",
      "18   -260.388222  \n",
      "19   9215.170965  \n",
      "20  13471.656544  \n",
      "21  18790.295930  \n",
      "22   4763.681136  \n",
      "23   6600.977725  \n",
      "24   5002.445534  \n",
      "25   -582.454936  \n",
      "26  26818.589237  \n",
      "27   7595.340467  \n",
      "28  -1507.187145  \n",
      "29  16492.781871  \n",
      "..           ...  \n",
      "32   -951.596433  \n",
      "33   5201.651380  \n",
      "34  15519.111612  \n",
      "35  15465.257073  \n",
      "36  -1010.329487  \n",
      "37  12745.338119  \n",
      "38   -757.779884  \n",
      "39  22723.943951  \n",
      "40   4347.751896  \n",
      "41    476.399278  \n",
      "42   3372.527612  \n",
      "43   3347.702841  \n",
      "44    415.326179  \n",
      "45  11627.008561  \n",
      "46   -780.376643  \n",
      "47  24440.424366  \n",
      "48   2647.022472  \n",
      "49   2647.022472  \n",
      "50   -551.580418  \n",
      "51           NaN  \n",
      "52           NaN  \n",
      "53           NaN  \n",
      "54           NaN  \n",
      "55           NaN  \n",
      "56           NaN  \n",
      "57           NaN  \n",
      "58           NaN  \n",
      "59           NaN  \n",
      "60           NaN  \n",
      "61           NaN  \n",
      "\n",
      "[62 rows x 6 columns]\n"
     ]
    }
   ],
   "source": [
    "print df_C14"
   ]
  },
  {
   "cell_type": "markdown",
   "metadata": {},
   "source": [
    "Now let's have a look at the locations of the data in a scatter plot"
   ]
  },
  {
   "cell_type": "code",
   "execution_count": 10,
   "metadata": {
    "collapsed": false
   },
   "outputs": [
    {
     "name": "stdout",
     "output_type": "stream",
     "text": [
      "62\n"
     ]
    },
    {
     "data": {
      "image/png": "[encoded data removed]",
      "text/plain": [
       "<matplotlib.figure.Figure at 0x91592e8>"
      ]
     },
     "metadata": {},
     "output_type": "display_data"
    }
   ],
   "source": [
    "ax = plt.subplot(1,1,1, aspect='equal')\n",
    "\n",
    "vmin = 0\n",
    "vmax = 5000\n",
    "\n",
    "scat = ax.scatter(df_C14['zone55_easting'], df_C14['zone55_northing'], s=50, c=df_C14['Age (years)'], vmin=vmin, vmax=vmax, alpha=0.8)\n",
    "\n",
    "print len(df_C14['zone55_easting'])\n",
    "\n",
    "plt.colorbar(scat)\n",
    "\n",
    "plt.show()"
   ]
  }
 ],
 "metadata": {
  "kernelspec": {
   "display_name": "Python 2",
   "language": "python",
   "name": "python2"
  },
  "language_info": {
   "codemirror_mode": {
    "name": "ipython",
    "version": 2
   },
   "file_extension": ".py",
   "mimetype": "text/x-python",
   "name": "python",
   "nbconvert_exporter": "python",
   "pygments_lexer": "ipython2",
   "version": "2.7.11"
  }
 },
 "nbformat": 4,
 "nbformat_minor": 0
}
