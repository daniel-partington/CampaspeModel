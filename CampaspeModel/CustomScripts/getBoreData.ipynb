{
 "cells": [
  {
   "cell_type": "markdown",
   "metadata": {},
   "source": [
    "# Bore data extraction\n",
    "---\n",
    "\n",
    "This notebook goes through processing bore data extracted from the National Groundwater Information System (NGIS) for Australian groundwater data.\n",
    "\n",
    "It is based on the script @ xxxx, . As a modification to this script the functions are not inserted to allow stepping through of the operations within the two functions given, i.e. <code>getBoreData()</code> and <code>getBoreDataGMW()</code>\n",
    "\n",
    "** Important notes: **\n",
    "When running through the steps in this notebook, some changes to existing objects (i.e. pandas dataframes) will be irreversible and so to go back you need to restart the kernel.\n",
    "\n",
    "&nbsp;\n",
    "\n",
    "First things first ... let's import the necessary modules for this exercise: [pandas](http://pandas.pydata.org/), [xlrd](https://pypi.python.org/pypi/xlrd) and [pysal](https://pypi.python.org/pypi/PySAL)\n",
    "\n"
   ]
  },
  {
   "cell_type": "code",
   "execution_count": 43,
   "metadata": {
    "collapsed": true
   },
   "outputs": [],
   "source": [
    "import numpy as np\n",
    "\n",
    "import pandas as pd\n",
    "import xlrd\n",
    "# local module\n",
    "from dbf2df import dbf2df  # script to import dbf as pandas.Dataframe using the pysal library"
   ]
  },
  {
   "cell_type": "markdown",
   "metadata": {},
   "source": [
    "## The <code>\"getBoreData()\"</code> function\n",
    "\n",
    "First thing to do is get the data from the NGIS website, we'll download Victoria data for this example:\n",
    "\n",
    "\n",
    "Once downloaded, create two strings to points to the files:"
   ]
  },
  {
   "cell_type": "code",
   "execution_count": 2,
   "metadata": {
    "collapsed": true
   },
   "outputs": [],
   "source": [
    "VIC_level_data = r\"C:\\Workspace\\part0075\\MDB modelling\\ngis_shp_VIC_2016\\level_VIC.csv\"\n",
    "VIC_salinity_data = r\"C:\\Workspace\\part0075\\MDB modelling\\ngis_shp_VIC_2016\\salinity_VIC.csv\""
   ]
  },
  {
   "cell_type": "markdown",
   "metadata": {},
   "source": [
    "If you look at the files in a text editor you will see the column headings. We can define a list of strings of headings for columns we want to load into Python using [pandas](http://pandas.pydata.org/). "
   ]
  },
  {
   "cell_type": "code",
   "execution_count": 3,
   "metadata": {
    "collapsed": true
   },
   "outputs": [],
   "source": [
    "fields_level = ['bore_id', 'bore_date', 'obs_point_datum', 'result', 'quality_flag', 'hydroid']\n",
    "fields_salinity = ['bore_id', 'bore_date', 'uom', 'result']"
   ]
  },
  {
   "cell_type": "markdown",
   "metadata": {},
   "source": [
    "\n",
    "\n",
    "Now let's load the csv files into pandas:"
   ]
  },
  {
   "cell_type": "code",
   "execution_count": 4,
   "metadata": {
    "collapsed": false
   },
   "outputs": [],
   "source": [
    "dfVIC_level = pd.read_csv(VIC_level_data, sep=r',', usecols=fields_level, dtype={fields_level[0]:str, fields_level[4]:str})\n",
    "dfVIC_level_raw = dfVIC_level.copy()\n",
    "dfVIC_salinity = pd.read_csv(VIC_salinity_data, sep=r',', usecols=fields_salinity, dtype={fields_salinity[0]:str})"
   ]
  },
  {
   "cell_type": "markdown",
   "metadata": {},
   "source": [
    "The NGIS dataset for each state as well as providing water level and salinity for bores also provides spatial data in the ESRI formatted shapefiles and dbf files. These contain details about the borehole log, construction log, and info on the hydrogeologic units as a reference. \n",
    "\n",
    "Let's load in this data:"
   ]
  },
  {
   "cell_type": "code",
   "execution_count": 5,
   "metadata": {
    "collapsed": true
   },
   "outputs": [],
   "source": [
    "#Construction Log File:\n",
    "ConstructionLogFile = r\"C:\\Workspace\\part0075\\MDB modelling\\ngis_shp_VIC_2016\\ngis_shp_VIC\\NGIS_ConstructionLog.dbf\"\n",
    "df_ConstructionLog_VIC = dbf2df(ConstructionLogFile, cols=[\"BoreID\", \"HydroCode\", \"TopElev\", \"BottomElev\", \"Constructi\"])\n",
    "\n",
    "#Borehole Log File:\n",
    "BoreholeLogFile = r\"C:\\Workspace\\part0075\\MDB modelling\\ngis_shp_VIC_2016\\ngis_shp_VIC\\NGIS_BoreholeLog.dbf\"\n",
    "df_BoreholeLog_VIC = dbf2df(BoreholeLogFile, cols=[\"HydroCode\", \"HGUNumber\"])\n",
    "\n",
    "#Hydrogeologic Unit Ref File:\n",
    "HGUFile = r\"C:\\Workspace\\part0075\\MDB modelling\\ngis_shp_VIC_2016\\ngis_shp_VIC\\NGIS_HydrogeologicUnit.dbf\"\n",
    "df_HydrogeologicUnit_VIC = dbf2df(HGUFile, cols=[\"HGUNumber\", \"HGCCode\"])"
   ]
  },
  {
   "cell_type": "markdown",
   "metadata": {},
   "source": [
    "To assist with processing the dataframes, lets also modify the \"type\" of data within some columns:"
   ]
  },
  {
   "cell_type": "code",
   "execution_count": 6,
   "metadata": {
    "collapsed": true
   },
   "outputs": [],
   "source": [
    "df_ConstructionLog_VIC[\"BoreID\"] = df_ConstructionLog_VIC[\"BoreID\"].astype(str)\n",
    "df_BoreholeLog_VIC[\"HydroCode\"] = df_BoreholeLog_VIC[\"HydroCode\"].astype(str) "
   ]
  },
  {
   "cell_type": "markdown",
   "metadata": {},
   "source": [
    "Only use readings in mAHD ... would be nice to later convert the other ones"
   ]
  },
  {
   "cell_type": "code",
   "execution_count": 7,
   "metadata": {
    "collapsed": false
   },
   "outputs": [
    {
     "name": "stdout",
     "output_type": "stream",
     "text": [
      "Total level records:  7005308\n"
     ]
    }
   ],
   "source": [
    "print 'Total level records: ', dfVIC_level.shape[0]\n",
    "\n",
    "dfVIC_level = dfVIC_level[dfVIC_level['obs_point_datum'] == \"RSWL (mAHD)\"]\n",
    "df_ConstructionLog_VIC = df_ConstructionLog_VIC[df_ConstructionLog_VIC['Constructi'] == \"INLT\"]"
   ]
  },
  {
   "cell_type": "markdown",
   "metadata": {},
   "source": [
    "Get rid of unnecessary columns:"
   ]
  },
  {
   "cell_type": "code",
   "execution_count": 8,
   "metadata": {
    "collapsed": false
   },
   "outputs": [],
   "source": [
    "dfVIC_level = dfVIC_level.drop(dfVIC_level[['obs_point_datum', 'hydroid']], axis=1)"
   ]
  },
  {
   "cell_type": "markdown",
   "metadata": {},
   "source": [
    "Only use data from the state observation bores:"
   ]
  },
  {
   "cell_type": "code",
   "execution_count": 9,
   "metadata": {
    "collapsed": true
   },
   "outputs": [],
   "source": [
    "dfVIC_level = dfVIC_level[dfVIC_level['quality_flag'].isin(['43', '44', '45', '47'])]"
   ]
  },
  {
   "cell_type": "markdown",
   "metadata": {},
   "source": [
    "Group bores by ID and get the mean of the heads, for later look at average long term heads in the system"
   ]
  },
  {
   "cell_type": "code",
   "execution_count": 10,
   "metadata": {
    "collapsed": true
   },
   "outputs": [],
   "source": [
    "dfVIC_level_summary = dfVIC_level.groupby('bore_id').count()\n",
    "dfVIC_level_summary['mean level'] = dfVIC_level.groupby('bore_id').mean()"
   ]
  },
  {
   "cell_type": "markdown",
   "metadata": {},
   "source": [
    "Look at total number of unique bores that have level readings:"
   ]
  },
  {
   "cell_type": "code",
   "execution_count": 11,
   "metadata": {
    "collapsed": false
   },
   "outputs": [
    {
     "name": "stdout",
     "output_type": "stream",
     "text": [
      "Total number of unique bores with level readings:  15477\n"
     ]
    }
   ],
   "source": [
    "print 'Total number of unique bores with level readings: ', dfVIC_level_summary.shape[0]"
   ]
  },
  {
   "cell_type": "markdown",
   "metadata": {},
   "source": [
    "Filter out bores with less than <code>obs_num_min</code> records, in this case selection is one, so all bores are actually included"
   ]
  },
  {
   "cell_type": "code",
   "execution_count": 12,
   "metadata": {
    "collapsed": true
   },
   "outputs": [],
   "source": [
    "obs_num_min = 1\n",
    "dfVIC_level_summary = dfVIC_level_summary[dfVIC_level_summary['result'] > obs_num_min]"
   ]
  },
  {
   "cell_type": "markdown",
   "metadata": {},
   "source": [
    "Look at total bores after minimum records filtering:"
   ]
  },
  {
   "cell_type": "code",
   "execution_count": 13,
   "metadata": {
    "collapsed": false
   },
   "outputs": [
    {
     "name": "stdout",
     "output_type": "stream",
     "text": [
      "Total number of unique bores with at least 1 readings:  14651\n"
     ]
    }
   ],
   "source": [
    "print 'Total number of unique bores with at least %i readings: ' %(obs_num_min), dfVIC_level_summary.shape[0]"
   ]
  },
  {
   "cell_type": "markdown",
   "metadata": {},
   "source": [
    "Filter the data again to only what we are interested in:"
   ]
  },
  {
   "cell_type": "code",
   "execution_count": 14,
   "metadata": {
    "collapsed": true
   },
   "outputs": [],
   "source": [
    "# Get column with index\n",
    "dfVIC_level_summary['HydroCode'] = dfVIC_level_summary.index\n",
    "\n",
    "# Filter original dataset\n",
    "dfVIC_level = dfVIC_level[dfVIC_level['bore_id'].isin(dfVIC_level_summary.index)]"
   ]
  },
  {
   "cell_type": "markdown",
   "metadata": {},
   "source": [
    "Now we want to look at all the bores that have level information AND info on the screen so that we can place it within the correct HGU."
   ]
  },
  {
   "cell_type": "code",
   "execution_count": 15,
   "metadata": {
    "collapsed": true
   },
   "outputs": [],
   "source": [
    "# Rename column id of 'bore_id' to bring inline with dbf files 'HydroCode'\n",
    "dfVIC_level.rename(columns={'bore_id':'HydroCode'}, inplace=True) "
   ]
  },
  {
   "cell_type": "code",
   "execution_count": 16,
   "metadata": {
    "collapsed": false
   },
   "outputs": [
    {
     "name": "stdout",
     "output_type": "stream",
     "text": [
      "Total number of bores with levels and screen info:  7007\n"
     ]
    }
   ],
   "source": [
    "# Get bore construction info\n",
    "df_bore_construction_info = pd.merge(dfVIC_level_summary, df_ConstructionLog_VIC, how='inner', on=['HydroCode'])\n",
    "\n",
    "# For bores with multiple entries, they are ambiguous, so remove\n",
    "df_bores_clear = df_bore_construction_info.groupby('HydroCode').count()\n",
    "\n",
    "print 'Total number of bores with levels and screen info: ', df_bores_clear.shape[0] "
   ]
  },
  {
   "cell_type": "markdown",
   "metadata": {},
   "source": [
    "Create two dataframes now that can be passed back for further analysis but which essentially only contain bores with level data that can be referenced against the AHD and with screen info to allow placement of observation within the correct HGU."
   ]
  },
  {
   "cell_type": "code",
   "execution_count": 17,
   "metadata": {
    "collapsed": true
   },
   "outputs": [],
   "source": [
    "# Assume bottom is the screened part and that well is not multi-screened    \n",
    "df_bores_clear['mean level'] = df_bore_construction_info.groupby('HydroCode').min()['mean level']\n",
    "df_bores_clear['BottomElev'] = df_bore_construction_info.groupby('HydroCode').min()['BottomElev']\n",
    "df_bores_clear['TopElev'] = df_bore_construction_info.groupby('HydroCode').min()['TopElev']\n",
    "\n",
    "# There is probably a cleaner way to do this ... but ...\n",
    "# Remove unnecessary columns\n",
    "\n",
    "df_bores_clear = df_bores_clear[['mean level', 'BottomElev', 'TopElev']]\n",
    "\n",
    "#print 'Total number of bores with levels and screen info that is non-ambiguous: ', df_bores_clear.shape[0]\n",
    "\n",
    "df_level_ordered = dfVIC_level.sort_values(['HydroCode', 'bore_date'])"
   ]
  },
  {
   "cell_type": "markdown",
   "metadata": {},
   "source": [
    "Now let's check if some key bores made it through our filtering, e.g. if I have the following list of bores for key ecological sites that I want to have in my filtered dataset:"
   ]
  },
  {
   "cell_type": "code",
   "execution_count": null,
   "metadata": {
    "collapsed": false
   },
   "outputs": [],
   "source": []
  },
  {
   "cell_type": "markdown",
   "metadata": {},
   "source": [
    "## The \"getBoreDataGMW()\" function¶\n",
    "\n",
    "This function gets the data provided by Goulburn Murray Water which may have further and more up to date data than the NGIS. However this data set is private and cannot be shared.\n",
    "\n",
    "Again, the first thing is to load in the data. This time, we will be loading an excel sheet, which we can then pass to pandas dataframes\n"
   ]
  },
  {
   "cell_type": "code",
   "execution_count": 19,
   "metadata": {
    "collapsed": true
   },
   "outputs": [],
   "source": [
    "fname = r\"C:\\Workspace\\part0075\\MDB modelling\\Campaspe_data\\GW\\Bore data\\Shallow monitoring bores bc301115.xlsx\"\n",
    "fname2 = r\"C:\\Workspace\\part0075\\MDB modelling\\Campaspe_data\\GW\\Bore data\\State Observation Bores bc271115.xlsx\"\n",
    "\n",
    "with xlrd.open_workbook(fname, on_demand=True) as xls:\n",
    "    sheets = xls.sheet_names()\n",
    "\n",
    "with xlrd.open_workbook(fname2, on_demand=True) as xls:\n",
    "    sheets2 = xls.sheet_names()\n"
   ]
  },
  {
   "cell_type": "markdown",
   "metadata": {},
   "source": [
    "\n",
    "Next, we pass them into dataframes:\n"
   ]
  },
  {
   "cell_type": "code",
   "execution_count": 20,
   "metadata": {
    "collapsed": false
   },
   "outputs": [],
   "source": [
    "\n",
    "df_set = {}\n",
    "df_set2 = {}\n",
    "\n",
    "for sheet in sheets:\n",
    "    df_set[sheet] = pd.read_excel(fname, sheetname=sheet)\n",
    "\n",
    "for sheet in sheets2:\n",
    "    df_set2[sheet] = pd.read_excel(fname2, sheetname=sheet)\n",
    "\n",
    "for key in df_set:\n",
    "    df_set[key] = pd.concat([df_set[key], df_set2[key]])\n",
    "\n",
    "\n",
    "# Filter construction details to get screens:\n",
    "# Index by bore ID for the filter construction drails\n",
    "Screen_info = df_set['Bore Construction'].loc[df_set['Bore Construction']['Component'] == 'Screen']\n",
    "\n",
    "# Filter lab chem sheet to get all of the salinities at bores\n",
    "WaterLevel = df_set['Water Levels']\n",
    "water_level_bores = pd.unique(WaterLevel['Bore ID'])"
   ]
  },
  {
   "cell_type": "markdown",
   "metadata": {},
   "source": [
    "\n",
    "Let's cast the 'Bore ID' as strings to allow comparison with data from NGIS\n",
    "\n"
   ]
  },
  {
   "cell_type": "code",
   "execution_count": 36,
   "metadata": {
    "collapsed": false
   },
   "outputs": [],
   "source": [
    "for key in df_set.keys():\n",
    "    df_set[key]['Bore ID'] = df_set[key]['Bore ID'].astype(str)\n",
    "\n",
    "for key in df_set2.keys():\n",
    "    df_set2[key]['Bore ID'] = df_set2[key]['Bore ID'].astype(str)"
   ]
  },
  {
   "cell_type": "markdown",
   "metadata": {},
   "source": [
    "Let's compare the bores in these two data sets for shallow and state bores"
   ]
  },
  {
   "cell_type": "code",
   "execution_count": 39,
   "metadata": {
    "collapsed": true
   },
   "outputs": [],
   "source": [
    "shallow_unique = df_set['Water Levels']['Bore ID'].unique()\n",
    "state_unique = df_set2['Water Levels']['Bore ID'].unique()"
   ]
  },
  {
   "cell_type": "markdown",
   "metadata": {},
   "source": [
    "Look for overlap between the two sets with *Intersection*:"
   ]
  },
  {
   "cell_type": "code",
   "execution_count": 45,
   "metadata": {
    "collapsed": false
   },
   "outputs": [
    {
     "name": "stdout",
     "output_type": "stream",
     "text": [
      "('Common bores in two datasets: ', 124L)\n"
     ]
    }
   ],
   "source": [
    "print(\"Common bores in two datasets: \", np.intersect1d(shallow_unique, state_unique, assume_unique=True).shape[0])"
   ]
  },
  {
   "cell_type": "markdown",
   "metadata": {},
   "source": [
    "And put the two together with *Union*:"
   ]
  },
  {
   "cell_type": "code",
   "execution_count": 46,
   "metadata": {
    "collapsed": true
   },
   "outputs": [],
   "source": [
    "GMW_bores = np.union1d(shallow_unique, state_unique)"
   ]
  },
  {
   "cell_type": "code",
   "execution_count": 47,
   "metadata": {
    "collapsed": true
   },
   "outputs": [],
   "source": [
    "NGIS_bores_filtered = df_level_ordered['HydroCode'].unique()"
   ]
  },
  {
   "cell_type": "code",
   "execution_count": 51,
   "metadata": {
    "collapsed": false
   },
   "outputs": [
    {
     "name": "stdout",
     "output_type": "stream",
     "text": [
      "GMW bores: 323\n",
      "NGIS bores: 14651\n",
      "Common bores: 274\n"
     ]
    }
   ],
   "source": [
    "print(\"GMW bores: %i\" %GMW_bores.shape[0])\n",
    "print(\"NGIS bores: %i\" %NGIS_bores_filtered.shape[0])\n",
    "print(\"Common bores: %i\" %np.intersect1d(GMW_bores, NGIS_bores_filtered, assume_unique=True).shape[0])"
   ]
  },
  {
   "cell_type": "markdown",
   "metadata": {},
   "source": [
    "Get list of bores from GMW data set that are not included in the NGIS data set"
   ]
  },
  {
   "cell_type": "code",
   "execution_count": 53,
   "metadata": {
    "collapsed": false
   },
   "outputs": [],
   "source": [
    "bores_GMW_extra = np.setdiff1d(GMW_bores, NGIS_bores_filtered)"
   ]
  },
  {
   "cell_type": "code",
   "execution_count": 56,
   "metadata": {
    "collapsed": false
   },
   "outputs": [],
   "source": [
    "GMW_extra_from_shallow = np.intersect1d(bores_GMW_extra, shallow_unique)\n",
    "GMW_extra_from_state = np.intersect1d(bores_GMW_extra, state_unique)"
   ]
  },
  {
   "cell_type": "code",
   "execution_count": 58,
   "metadata": {
    "collapsed": false
   },
   "outputs": [
    {
     "data": {
      "text/plain": [
       "array(['109933', '110002', '110003', '110004', '110005', '110521',\n",
       "       '110522', '110814', '110815', '110816', '110817', '110818',\n",
       "       '110819', '110824', '110825', '115956', '138188', '138922',\n",
       "       '138945', '140559', '24005', '25098', '25228', '25259', '25262',\n",
       "       '25263', '25265', '25267', '25269', '25270', '25274', '25328',\n",
       "       '45495', '45700', '45701', '45702', '45703', '45705', '45706',\n",
       "       '45727', '45728', '45729', '45730', '45731', '45732', '45733',\n",
       "       '45736', 'SP068135', 'SP068137'], dtype=object)"
      ]
     },
     "execution_count": 58,
     "metadata": {},
     "output_type": "execute_result"
    }
   ],
   "source": [
    "GMW_extra_from_shallow"
   ]
  },
  {
   "cell_type": "code",
   "execution_count": 59,
   "metadata": {
    "collapsed": false
   },
   "outputs": [
    {
     "data": {
      "text/plain": [
       "array([], dtype=object)"
      ]
     },
     "execution_count": 59,
     "metadata": {},
     "output_type": "execute_result"
    }
   ],
   "source": [
    "GMW_extra_from_state"
   ]
  },
  {
   "cell_type": "markdown",
   "metadata": {},
   "source": [
    "All extra bores are from the shallow bores database ... so we now need to add them to the NGIS dataframe\n"
   ]
  },
  {
   "cell_type": "code",
   "execution_count": 128,
   "metadata": {
    "collapsed": false
   },
   "outputs": [
    {
     "data": {
      "text/html": [
       "<div>\n",
       "<table border=\"1\" class=\"dataframe\">\n",
       "  <thead>\n",
       "    <tr style=\"text-align: right;\">\n",
       "      <th></th>\n",
       "      <th>mean level</th>\n",
       "      <th>BottomElev</th>\n",
       "      <th>TopElev</th>\n",
       "    </tr>\n",
       "    <tr>\n",
       "      <th>HydroCode</th>\n",
       "      <th></th>\n",
       "      <th></th>\n",
       "      <th></th>\n",
       "    </tr>\n",
       "  </thead>\n",
       "  <tbody>\n",
       "    <tr>\n",
       "      <th>100017</th>\n",
       "      <td>2.294163</td>\n",
       "      <td>-112.10</td>\n",
       "      <td>-105.10</td>\n",
       "    </tr>\n",
       "    <tr>\n",
       "      <th>100019</th>\n",
       "      <td>57.896865</td>\n",
       "      <td>53.48</td>\n",
       "      <td>55.48</td>\n",
       "    </tr>\n",
       "    <tr>\n",
       "      <th>100020</th>\n",
       "      <td>2.123627</td>\n",
       "      <td>-37.02</td>\n",
       "      <td>-14.02</td>\n",
       "    </tr>\n",
       "    <tr>\n",
       "      <th>100021</th>\n",
       "      <td>1.750529</td>\n",
       "      <td>-31.55</td>\n",
       "      <td>-19.55</td>\n",
       "    </tr>\n",
       "    <tr>\n",
       "      <th>100022</th>\n",
       "      <td>1.778132</td>\n",
       "      <td>-55.74</td>\n",
       "      <td>-37.74</td>\n",
       "    </tr>\n",
       "    <tr>\n",
       "      <th>100023</th>\n",
       "      <td>3.296359</td>\n",
       "      <td>-23.61</td>\n",
       "      <td>0.39</td>\n",
       "    </tr>\n",
       "    <tr>\n",
       "      <th>100024</th>\n",
       "      <td>1.571802</td>\n",
       "      <td>-46.67</td>\n",
       "      <td>-40.67</td>\n",
       "    </tr>\n",
       "    <tr>\n",
       "      <th>100025</th>\n",
       "      <td>1.472059</td>\n",
       "      <td>-15.03</td>\n",
       "      <td>0.97</td>\n",
       "    </tr>\n",
       "    <tr>\n",
       "      <th>100267</th>\n",
       "      <td>2.642500</td>\n",
       "      <td>-7.90</td>\n",
       "      <td>-7.40</td>\n",
       "    </tr>\n",
       "    <tr>\n",
       "      <th>100270</th>\n",
       "      <td>2.367500</td>\n",
       "      <td>-13.39</td>\n",
       "      <td>-12.89</td>\n",
       "    </tr>\n",
       "    <tr>\n",
       "      <th>100286</th>\n",
       "      <td>2.447500</td>\n",
       "      <td>-18.40</td>\n",
       "      <td>-13.40</td>\n",
       "    </tr>\n",
       "    <tr>\n",
       "      <th>100287</th>\n",
       "      <td>2.407500</td>\n",
       "      <td>-29.00</td>\n",
       "      <td>-23.50</td>\n",
       "    </tr>\n",
       "    <tr>\n",
       "      <th>100288</th>\n",
       "      <td>2.485000</td>\n",
       "      <td>-16.00</td>\n",
       "      <td>-11.00</td>\n",
       "    </tr>\n",
       "    <tr>\n",
       "      <th>100289</th>\n",
       "      <td>2.357500</td>\n",
       "      <td>-24.00</td>\n",
       "      <td>-19.00</td>\n",
       "    </tr>\n",
       "    <tr>\n",
       "      <th>100290</th>\n",
       "      <td>2.462500</td>\n",
       "      <td>-8.30</td>\n",
       "      <td>-3.20</td>\n",
       "    </tr>\n",
       "    <tr>\n",
       "      <th>100291</th>\n",
       "      <td>2.562500</td>\n",
       "      <td>-12.20</td>\n",
       "      <td>-6.80</td>\n",
       "    </tr>\n",
       "    <tr>\n",
       "      <th>100500</th>\n",
       "      <td>92.261042</td>\n",
       "      <td>-38.73</td>\n",
       "      <td>-12.93</td>\n",
       "    </tr>\n",
       "    <tr>\n",
       "      <th>100501</th>\n",
       "      <td>93.897554</td>\n",
       "      <td>-1.18</td>\n",
       "      <td>15.02</td>\n",
       "    </tr>\n",
       "    <tr>\n",
       "      <th>100503</th>\n",
       "      <td>99.900000</td>\n",
       "      <td>28.20</td>\n",
       "      <td>34.20</td>\n",
       "    </tr>\n",
       "    <tr>\n",
       "      <th>100504</th>\n",
       "      <td>99.114966</td>\n",
       "      <td>80.20</td>\n",
       "      <td>86.20</td>\n",
       "    </tr>\n",
       "    <tr>\n",
       "      <th>100505</th>\n",
       "      <td>99.004189</td>\n",
       "      <td>96.20</td>\n",
       "      <td>102.20</td>\n",
       "    </tr>\n",
       "    <tr>\n",
       "      <th>100533</th>\n",
       "      <td>17.942231</td>\n",
       "      <td>-18.33</td>\n",
       "      <td>3.17</td>\n",
       "    </tr>\n",
       "    <tr>\n",
       "      <th>100594</th>\n",
       "      <td>113.728571</td>\n",
       "      <td>83.52</td>\n",
       "      <td>110.52</td>\n",
       "    </tr>\n",
       "    <tr>\n",
       "      <th>100975</th>\n",
       "      <td>1.256667</td>\n",
       "      <td>-1.19</td>\n",
       "      <td>-0.19</td>\n",
       "    </tr>\n",
       "    <tr>\n",
       "      <th>100976</th>\n",
       "      <td>1.206562</td>\n",
       "      <td>-2.06</td>\n",
       "      <td>-1.06</td>\n",
       "    </tr>\n",
       "    <tr>\n",
       "      <th>100977</th>\n",
       "      <td>1.301619</td>\n",
       "      <td>-1.22</td>\n",
       "      <td>-0.22</td>\n",
       "    </tr>\n",
       "    <tr>\n",
       "      <th>100978</th>\n",
       "      <td>1.321685</td>\n",
       "      <td>-0.48</td>\n",
       "      <td>0.52</td>\n",
       "    </tr>\n",
       "    <tr>\n",
       "      <th>100979</th>\n",
       "      <td>1.264167</td>\n",
       "      <td>-1.28</td>\n",
       "      <td>-0.28</td>\n",
       "    </tr>\n",
       "    <tr>\n",
       "      <th>100980</th>\n",
       "      <td>1.366071</td>\n",
       "      <td>-1.29</td>\n",
       "      <td>-0.29</td>\n",
       "    </tr>\n",
       "    <tr>\n",
       "      <th>101012</th>\n",
       "      <td>196.342542</td>\n",
       "      <td>163.66</td>\n",
       "      <td>164.66</td>\n",
       "    </tr>\n",
       "    <tr>\n",
       "      <th>...</th>\n",
       "      <td>...</td>\n",
       "      <td>...</td>\n",
       "      <td>...</td>\n",
       "    </tr>\n",
       "    <tr>\n",
       "      <th>WRK054466</th>\n",
       "      <td>147.010370</td>\n",
       "      <td>75.93</td>\n",
       "      <td>76.93</td>\n",
       "    </tr>\n",
       "    <tr>\n",
       "      <th>WRK054467</th>\n",
       "      <td>131.002766</td>\n",
       "      <td>92.39</td>\n",
       "      <td>95.11</td>\n",
       "    </tr>\n",
       "    <tr>\n",
       "      <th>WRK054468</th>\n",
       "      <td>117.202340</td>\n",
       "      <td>28.92</td>\n",
       "      <td>30.02</td>\n",
       "    </tr>\n",
       "    <tr>\n",
       "      <th>WRK054545</th>\n",
       "      <td>148.185926</td>\n",
       "      <td>122.31</td>\n",
       "      <td>124.25</td>\n",
       "    </tr>\n",
       "    <tr>\n",
       "      <th>WRK054546</th>\n",
       "      <td>131.807872</td>\n",
       "      <td>125.13</td>\n",
       "      <td>126.31</td>\n",
       "    </tr>\n",
       "    <tr>\n",
       "      <th>WRK054547</th>\n",
       "      <td>121.187234</td>\n",
       "      <td>96.78</td>\n",
       "      <td>97.74</td>\n",
       "    </tr>\n",
       "    <tr>\n",
       "      <th>WRK054555</th>\n",
       "      <td>129.190370</td>\n",
       "      <td>30.65</td>\n",
       "      <td>31.77</td>\n",
       "    </tr>\n",
       "    <tr>\n",
       "      <th>WRK054556</th>\n",
       "      <td>128.042222</td>\n",
       "      <td>88.68</td>\n",
       "      <td>91.28</td>\n",
       "    </tr>\n",
       "    <tr>\n",
       "      <th>WRK054826</th>\n",
       "      <td>131.014074</td>\n",
       "      <td>120.08</td>\n",
       "      <td>120.98</td>\n",
       "    </tr>\n",
       "    <tr>\n",
       "      <th>WRK055013</th>\n",
       "      <td>89.499375</td>\n",
       "      <td>78.27</td>\n",
       "      <td>81.27</td>\n",
       "    </tr>\n",
       "    <tr>\n",
       "      <th>WRK055015</th>\n",
       "      <td>90.580000</td>\n",
       "      <td>90.27</td>\n",
       "      <td>91.97</td>\n",
       "    </tr>\n",
       "    <tr>\n",
       "      <th>WRK055017</th>\n",
       "      <td>89.124286</td>\n",
       "      <td>79.69</td>\n",
       "      <td>82.39</td>\n",
       "    </tr>\n",
       "    <tr>\n",
       "      <th>WRK055018</th>\n",
       "      <td>90.460000</td>\n",
       "      <td>90.19</td>\n",
       "      <td>91.89</td>\n",
       "    </tr>\n",
       "    <tr>\n",
       "      <th>WRK055019</th>\n",
       "      <td>89.246000</td>\n",
       "      <td>85.64</td>\n",
       "      <td>88.34</td>\n",
       "    </tr>\n",
       "    <tr>\n",
       "      <th>WRK055024</th>\n",
       "      <td>90.350000</td>\n",
       "      <td>90.07</td>\n",
       "      <td>91.77</td>\n",
       "    </tr>\n",
       "    <tr>\n",
       "      <th>WRK055025</th>\n",
       "      <td>88.183333</td>\n",
       "      <td>83.49</td>\n",
       "      <td>86.19</td>\n",
       "    </tr>\n",
       "    <tr>\n",
       "      <th>WRK055026</th>\n",
       "      <td>89.830000</td>\n",
       "      <td>89.49</td>\n",
       "      <td>91.19</td>\n",
       "    </tr>\n",
       "    <tr>\n",
       "      <th>WRK055027</th>\n",
       "      <td>87.733333</td>\n",
       "      <td>81.69</td>\n",
       "      <td>84.39</td>\n",
       "    </tr>\n",
       "    <tr>\n",
       "      <th>WRK055028</th>\n",
       "      <td>90.482500</td>\n",
       "      <td>89.19</td>\n",
       "      <td>90.89</td>\n",
       "    </tr>\n",
       "    <tr>\n",
       "      <th>WRK055029</th>\n",
       "      <td>87.087273</td>\n",
       "      <td>77.06</td>\n",
       "      <td>81.76</td>\n",
       "    </tr>\n",
       "    <tr>\n",
       "      <th>WRK055030</th>\n",
       "      <td>89.360000</td>\n",
       "      <td>89.06</td>\n",
       "      <td>90.76</td>\n",
       "    </tr>\n",
       "    <tr>\n",
       "      <th>WRK055031</th>\n",
       "      <td>86.977778</td>\n",
       "      <td>71.27</td>\n",
       "      <td>73.97</td>\n",
       "    </tr>\n",
       "    <tr>\n",
       "      <th>WRK055032</th>\n",
       "      <td>89.570000</td>\n",
       "      <td>89.27</td>\n",
       "      <td>90.97</td>\n",
       "    </tr>\n",
       "    <tr>\n",
       "      <th>WRK056929</th>\n",
       "      <td>155.278148</td>\n",
       "      <td>142.84</td>\n",
       "      <td>143.84</td>\n",
       "    </tr>\n",
       "    <tr>\n",
       "      <th>WRK056982</th>\n",
       "      <td>153.964815</td>\n",
       "      <td>144.22</td>\n",
       "      <td>145.22</td>\n",
       "    </tr>\n",
       "    <tr>\n",
       "      <th>WRK057103</th>\n",
       "      <td>-1.355625</td>\n",
       "      <td>-72.97</td>\n",
       "      <td>-69.97</td>\n",
       "    </tr>\n",
       "    <tr>\n",
       "      <th>WRK057491</th>\n",
       "      <td>89.115000</td>\n",
       "      <td>75.23</td>\n",
       "      <td>80.93</td>\n",
       "    </tr>\n",
       "    <tr>\n",
       "      <th>WRK057492</th>\n",
       "      <td>90.470000</td>\n",
       "      <td>90.23</td>\n",
       "      <td>91.93</td>\n",
       "    </tr>\n",
       "    <tr>\n",
       "      <th>WRK064909</th>\n",
       "      <td>151.225128</td>\n",
       "      <td>80.64</td>\n",
       "      <td>83.64</td>\n",
       "    </tr>\n",
       "    <tr>\n",
       "      <th>WRK064910</th>\n",
       "      <td>153.421212</td>\n",
       "      <td>82.99</td>\n",
       "      <td>85.99</td>\n",
       "    </tr>\n",
       "  </tbody>\n",
       "</table>\n",
       "<p>7007 rows × 3 columns</p>\n",
       "</div>"
      ],
      "text/plain": [
       "           mean level  BottomElev  TopElev\n",
       "HydroCode                                 \n",
       "100017       2.294163     -112.10  -105.10\n",
       "100019      57.896865       53.48    55.48\n",
       "100020       2.123627      -37.02   -14.02\n",
       "100021       1.750529      -31.55   -19.55\n",
       "100022       1.778132      -55.74   -37.74\n",
       "100023       3.296359      -23.61     0.39\n",
       "100024       1.571802      -46.67   -40.67\n",
       "100025       1.472059      -15.03     0.97\n",
       "100267       2.642500       -7.90    -7.40\n",
       "100270       2.367500      -13.39   -12.89\n",
       "100286       2.447500      -18.40   -13.40\n",
       "100287       2.407500      -29.00   -23.50\n",
       "100288       2.485000      -16.00   -11.00\n",
       "100289       2.357500      -24.00   -19.00\n",
       "100290       2.462500       -8.30    -3.20\n",
       "100291       2.562500      -12.20    -6.80\n",
       "100500      92.261042      -38.73   -12.93\n",
       "100501      93.897554       -1.18    15.02\n",
       "100503      99.900000       28.20    34.20\n",
       "100504      99.114966       80.20    86.20\n",
       "100505      99.004189       96.20   102.20\n",
       "100533      17.942231      -18.33     3.17\n",
       "100594     113.728571       83.52   110.52\n",
       "100975       1.256667       -1.19    -0.19\n",
       "100976       1.206562       -2.06    -1.06\n",
       "100977       1.301619       -1.22    -0.22\n",
       "100978       1.321685       -0.48     0.52\n",
       "100979       1.264167       -1.28    -0.28\n",
       "100980       1.366071       -1.29    -0.29\n",
       "101012     196.342542      163.66   164.66\n",
       "...               ...         ...      ...\n",
       "WRK054466  147.010370       75.93    76.93\n",
       "WRK054467  131.002766       92.39    95.11\n",
       "WRK054468  117.202340       28.92    30.02\n",
       "WRK054545  148.185926      122.31   124.25\n",
       "WRK054546  131.807872      125.13   126.31\n",
       "WRK054547  121.187234       96.78    97.74\n",
       "WRK054555  129.190370       30.65    31.77\n",
       "WRK054556  128.042222       88.68    91.28\n",
       "WRK054826  131.014074      120.08   120.98\n",
       "WRK055013   89.499375       78.27    81.27\n",
       "WRK055015   90.580000       90.27    91.97\n",
       "WRK055017   89.124286       79.69    82.39\n",
       "WRK055018   90.460000       90.19    91.89\n",
       "WRK055019   89.246000       85.64    88.34\n",
       "WRK055024   90.350000       90.07    91.77\n",
       "WRK055025   88.183333       83.49    86.19\n",
       "WRK055026   89.830000       89.49    91.19\n",
       "WRK055027   87.733333       81.69    84.39\n",
       "WRK055028   90.482500       89.19    90.89\n",
       "WRK055029   87.087273       77.06    81.76\n",
       "WRK055030   89.360000       89.06    90.76\n",
       "WRK055031   86.977778       71.27    73.97\n",
       "WRK055032   89.570000       89.27    90.97\n",
       "WRK056929  155.278148      142.84   143.84\n",
       "WRK056982  153.964815      144.22   145.22\n",
       "WRK057103   -1.355625      -72.97   -69.97\n",
       "WRK057491   89.115000       75.23    80.93\n",
       "WRK057492   90.470000       90.23    91.93\n",
       "WRK064909  151.225128       80.64    83.64\n",
       "WRK064910  153.421212       82.99    85.99\n",
       "\n",
       "[7007 rows x 3 columns]"
      ]
     },
     "execution_count": 128,
     "metadata": {},
     "output_type": "execute_result"
    }
   ],
   "source": [
    "df_bores_clear"
   ]
  },
  {
   "cell_type": "code",
   "execution_count": 129,
   "metadata": {
    "collapsed": false
   },
   "outputs": [
    {
     "data": {
      "text/plain": [
       "[u'Bore Construction',\n",
       " u'Field Chem',\n",
       " u'Water Levels',\n",
       " u'Drillers Log',\n",
       " u'Lab Chem',\n",
       " u'Site Details']"
      ]
     },
     "execution_count": 129,
     "metadata": {},
     "output_type": "execute_result"
    }
   ],
   "source": [
    "df_set.keys()"
   ]
  },
  {
   "cell_type": "code",
   "execution_count": 177,
   "metadata": {
    "collapsed": false
   },
   "outputs": [
    {
     "data": {
      "text/plain": [
       "Index([                        u'Bore ID',                            u'Type',\n",
       "                                u'Status',                        u'Latitude',\n",
       "                             u'Longitude',                 u'Location method',\n",
       "                               u'Easting',                        u'Northing',\n",
       "                                  u'Zone', u'Distance to nominated point (m)',\n",
       "                                  u'Area',                        u'Alias ID',\n",
       "                        u'Date commenced',                  u'Date completed',\n",
       "                                   u'Use',   u'Date retired (decommissioned)',\n",
       "                       u'Total depth (m)',          u'Drilled bore depth (m)',\n",
       "                     u'Max diameter (mm)',  u'Elevation top of casing (mAHD)',\n",
       "         u'Elevation ground level (mAHD)',                   u'Date surveyed',\n",
       "                           u'Survey desc',                   u'Surveyor name',\n",
       "               u'Survey location/comment',                  u'Screen top (m)',\n",
       "                     u'Screen bottom (m)',                  u'Condition desc',\n",
       "                        u'Date effective',                    u'Artesian y/n',\n",
       "                            u'BottomElev',                         u'TopElev'],\n",
       "      dtype='object')"
      ]
     },
     "execution_count": 177,
     "metadata": {},
     "output_type": "execute_result"
    }
   ],
   "source": [
    "df_set['Site Details'].columns\n"
   ]
  },
  {
   "cell_type": "markdown",
   "metadata": {},
   "source": [
    "Let's remove all of the bores which have NaN top of casing or screen information.\n",
    "\n",
    "Calculate the top and bottom elevation of screens for the shallow monitoring bores dataset by subtracting depth to top and bottom from the top of casing."
   ]
  },
  {
   "cell_type": "code",
   "execution_count": 158,
   "metadata": {
    "collapsed": false
   },
   "outputs": [],
   "source": [
    "df_set['Site Details'] = df_set['Site Details'][np.isfinite(df_set['Site Details']['Screen top (m)'])]\n",
    "df_set['Site Details'] = df_set['Site Details'][np.isfinite(df_set['Site Details']['Elevation top of casing (mAHD)'])]\n",
    "df_set['Site Details']['BottomElev'] = df_set['Site Details']['Elevation top of casing (mAHD)'] - df_set['Site Details']['Screen bottom (m)']\n",
    "df_set['Site Details']['TopElev'] = df_set['Site Details']['Elevation top of casing (mAHD)'] - df_set['Site Details']['Screen top (m)']\n",
    "shallow_unique_with_data = df_set['Site Details']['Bore ID'].unique()\n",
    "\n",
    "#df_set2['Site Details'] = df_set2['Site Details'][np.isfinite(df_set2['Site Details']['Screen top (m)'])]\n",
    "#df_set2['Site Details'] = df_set2['Site Details'][np.isfinite(df_set2['Site Details']['Elevation top of casing (mAHD)'])]\n",
    "#df_set2['Site Details']['BottomElev'] = df_set2['Site Details']['Elevation top of casing (mAHD)'] - df_set2['Site Details']['Screen bottom (m)']\n",
    "#df_set2['Site Details']['TopElev'] = df_set2['Site Details']['Elevation top of casing (mAHD)'] - df_set2['Site Details']['Screen top (m)']\n",
    "#state_unique_with_data = df_set['Site Details']['Bore ID'].unique()"
   ]
  },
  {
   "cell_type": "code",
   "execution_count": 161,
   "metadata": {
    "collapsed": false
   },
   "outputs": [
    {
     "data": {
      "text/plain": [
       "array(['110002', '110003', '110004', '110005', '110521', '110522',\n",
       "       '110814', '110816', '110817', '110818', '110819', '110824',\n",
       "       '110825', '115956', '138188', '140559', '24005', '25328', '45495'], dtype=object)"
      ]
     },
     "execution_count": 161,
     "metadata": {},
     "output_type": "execute_result"
    }
   ],
   "source": [
    "GMW_extra_from_shallow_with_data = np.intersect1d(bores_GMW_extra, shallow_unique_with_data)\n",
    "GMW_extra_from_shallow_with_data"
   ]
  },
  {
   "cell_type": "markdown",
   "metadata": {},
   "source": [
    "For these bores, let's add them back into the NGIS dataframe"
   ]
  },
  {
   "cell_type": "code",
   "execution_count": 176,
   "metadata": {
    "collapsed": false
   },
   "outputs": [
    {
     "name": "stdout",
     "output_type": "stream",
     "text": [
      "Bore ID\n",
      "110002     93.74\n",
      "110003     93.71\n",
      "110004     93.72\n",
      "110005     92.08\n",
      "110521     93.81\n",
      "110522     94.28\n",
      "110814    107.07\n",
      "110816    107.47\n",
      "110819    105.84\n",
      "110824    105.89\n",
      "110825    107.42\n",
      "138188    104.13\n",
      "140559    103.89\n",
      "24005      93.70\n",
      "25328      93.06\n",
      "Name: Reduced water level (mAHD), dtype: float64\n"
     ]
    }
   ],
   "source": [
    "water_levels_appending = df_set['Water Levels'][df_set['Water Levels']['Bore ID'].isin(GMW_extra_from_shallow_with_data)]\n",
    "water_levels_appending = water_levels_appending[np.isfinite(water_levels_appending['Reduced water level (mAHD)'])]\n",
    "#print water_levels_appending[water_levels_appending['Bore ID']==110817]\n",
    "water_levels_appending = water_levels_appending.groupby('Bore ID').mean()\n",
    "print water_levels_appending['Reduced water level (mAHD)']\n",
    "shallow_bores_appending = df_set['Site Details'][['Bore ID', 'BottomElev', 'TopElev']]"
   ]
  },
  {
   "cell_type": "markdown",
   "metadata": {},
   "source": [
    "## Viewing GW head time series for particular bores\n",
    "\n",
    "This shows how to extract individual bore data and resample it at the monthly time step and then plot it"
   ]
  },
  {
   "cell_type": "code",
   "execution_count": 70,
   "metadata": {
    "collapsed": false
   },
   "outputs": [],
   "source": [
    "%matplotlib inline\n"
   ]
  },
  {
   "cell_type": "code",
   "execution_count": 126,
   "metadata": {
    "collapsed": false
   },
   "outputs": [
    {
     "data": {
      "text/plain": [
       "<matplotlib.axes._subplots.AxesSubplot at 0x22a55208>"
      ]
     },
     "execution_count": 126,
     "metadata": {},
     "output_type": "execute_result"
    },
    {
     "data": {
      "image/png": "[encoded data removed]",
      "text/plain": [
       "<matplotlib.figure.Figure at 0x3be9b048>"
      ]
     },
     "metadata": {},
     "output_type": "display_data"
    }
   ],
   "source": [
    "ts = df_level_ordered[df_level_ordered['HydroCode']=='100'].copy()\n",
    "ts.set_index('bore_date', inplace=True)\n",
    "ts.index = ts.index.to_datetime(dayfirst=True)\n",
    "#ts.plot(y='result')\n",
    "ts_2 = ts.copy()\n",
    "ts = ts.resample('M').mean()\n",
    "ts2 = ts_2.resample('M').count()\n",
    "ts.plot(y='result', marker='o', alpha=0.5)\n"
   ]
  },
  {
   "cell_type": "code",
   "execution_count": null,
   "metadata": {
    "collapsed": false
   },
   "outputs": [],
   "source": [
    "\n"
   ]
  },
  {
   "cell_type": "code",
   "execution_count": null,
   "metadata": {
    "collapsed": true
   },
   "outputs": [],
   "source": []
  }
 ],
 "metadata": {
  "anaconda-cloud": {},
  "kernelspec": {
   "display_name": "Python [default]",
   "language": "python",
   "name": "python2"
  },
  "language_info": {
   "codemirror_mode": {
    "name": "ipython",
    "version": 2
   },
   "file_extension": ".py",
   "mimetype": "text/x-python",
   "name": "python",
   "nbconvert_exporter": "python",
   "pygments_lexer": "ipython2",
   "version": "2.7.11"
  }
 },
 "nbformat": 4,
 "nbformat_minor": 0
}
