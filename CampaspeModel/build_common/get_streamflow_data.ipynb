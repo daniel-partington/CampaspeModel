{
 "cells": [
  {
   "cell_type": "markdown",
   "metadata": {},
   "source": [
    "# Processing stream data from http://data.water.vic.gov.au/monitoring.htm"
   ]
  },
  {
   "cell_type": "code",
   "execution_count": 11,
   "metadata": {
    "collapsed": true
   },
   "outputs": [],
   "source": [
    "import os\n",
    "import datetime\n",
    "import pandas as pd\n",
    "import matplotlib.pyplot as plt\n",
    "%matplotlib inline"
   ]
  },
  {
   "cell_type": "code",
   "execution_count": 3,
   "metadata": {
    "collapsed": false
   },
   "outputs": [],
   "source": [
    "stream_data_folder = r\"C:\\Workspace\\part0075\\MDB modelling\\Campaspe_data\\SW\\All_streamflow_Campaspe_catchment\\Updated\"\n",
    "working_directory = stream_data_folder\n",
    "site_details_file = \"Site Details.csv\"\n",
    "site_details = pd.read_csv(os.path.join(working_directory, site_details_file))"
   ]
  },
  {
   "cell_type": "code",
   "execution_count": 20,
   "metadata": {
    "collapsed": false
   },
   "outputs": [
    {
     "data": {
      "text/plain": [
       "0                 COLIBAN RIVER @ MALMSBURY RAIL BRIDGE\n",
       "1                            CAMPASPE RIVER @ BARNADOWN\n",
       "2     CAMPASPE RIVER @ ROCHESTER D/S WARANGA WESTERN...\n",
       "3                        CAMPASPE RIVER @ CAMPASPE WEIR\n",
       "4                               CAMPASPE RIVER @ ELMORE\n",
       "5                              CAMPASPE RIVER @ AXEDALE\n",
       "6                             CAMPASPE RIVER @ EPPALOCK\n",
       "7                            CAMPASPE RIVER @ ASHBOURNE\n",
       "8                            CAMPASPE RIVER @ CARLSRUHE\n",
       "9          COLIBAN RIVER DOWNSTREAM LAURISTON RESERVOIR\n",
       "10                           CAMPASPE RIVER @ REDESDALE\n",
       "11                                  AXE CREEK @ LONGLEA\n",
       "12                                 COLIBAN RIVER @ LYAL\n",
       "13                                AXE CREEK @ SEDGEWICK\n",
       "14                       SHEEPWASH CREEK @ TANNERY LANE\n",
       "15          CAMPASPE RIVER @ CAMPASPE WEIR (HEAD GAUGE)\n",
       "16          CAMPASPE RIVER @ LAKE EPPALOCK (HEAD GAUGE)\n",
       "17     COLIBAN RIVER @ MALMSBURY RESERVOIR (HEAD GAUGE)\n",
       "18      COLIBAN RIVER @ UPPER COLIBAN RES. (HEAD GAUGE)\n",
       "19     COLIBAN RIVER @ LAURISTON RESERVOIR (HEAD GAUGE)\n",
       "20                     MOUNT PLEASANT CREEK @ RUNNYMEDE\n",
       "21    CAMPASPE RIVER @ LAKE EPPALOCK (O'LET MEAS. WEIR)\n",
       "22                           MOUNT IDA CREEK @ DERRINAL\n",
       "23      WILD DUCK CREEK @ U/S OF HEATHCOTE-MIA MIA ROAD\n",
       "24               COLIBAN RIVER @ SPRINGHILL-TYLDEN ROAD\n",
       "25                LITTLE COLIBAN RIVER @ TYLDEN SPRINGS\n",
       "26                          AXE CREEK @ STRATHFIELDSAYE\n",
       "27                MULLERS CREEK @ MURRAY VALLEY HIGHWAY\n",
       "28              MILLEWA CREEK @ NORTHERN HIGHWAY ECHUCA\n",
       "29                              CAMPASPE RIVER @ ECHUCA\n",
       "                            ...                        \n",
       "35                       CAMPASPE RIVER @ BACKHAUS ROAD\n",
       "36                         COLIBAN RIVER U/S SUMMERHILL\n",
       "37                   LITTLE COLIBAN RV @ GLUEPOT BRIDGE\n",
       "38          KANGAROO CREEK UPSTREAM MALMSBURY RESERVOIR\n",
       "39                       COLIBAN MAIN CHANNEL @ OFFTAKE\n",
       "40                 DEAKIN MAIN DRAIN @ OUTFALL (ECHUCA)\n",
       "41                         YAMBUNA MAIN DRAIN @ OUTFALL\n",
       "42    TANDARRA-CALIVIL CHANNEL @ OFFTAKE MEASURING WEIR\n",
       "43            DEAKIN MAIN DRAIN (D/S DRAIN 3) @ GRAY RD\n",
       "44     COLIBAN MAIN CHANNEL @ SANDHURST RESERVOIR INLET\n",
       "45                 BAMAWM MAIN DRAIN @ O'DONNELL'S ROAD\n",
       "46          BAMAWM DRAIN NO.3 EXTENSION @ O'DONNEL ROAD\n",
       "47                      BAMAWM MAIN DRAIN @ DINGEE ROAD\n",
       "48                           DEAKIN MAIN DRAIN @ SITE R\n",
       "49         DEAKIN MAIN DRAIN SITE (S) @ MIDLAND HIGHWAY\n",
       "50              DEAKIN MAIN DRAIN SITE (U) @ MASON ROAD\n",
       "51                  BAMAWM MAIN DRAIN @ DARGON'S BRIDGE\n",
       "52      BAMAWM MAIN DRAIN @ D/S WARANGA WESTERN CHANNEL\n",
       "53                      BAMAWM DRAIN 11/1 @ FOSTER ROAD\n",
       "54             CAMPASPE NO.1 CHANNEL @ NORTHERN HIGHWAY\n",
       "55                DEAKIN DRAIN NO 10 OUTFALL @ STANHOPE\n",
       "56                MOSQUITO CREEK DEPRESSION @ CURR ROAD\n",
       "57      RICHARDSONS LAGOON OUTFALL @ TORRUMBARRY ESTATE\n",
       "58        BAMAWN MAIN DRAIN @ RICHARDSON LAGOON OUTFALL\n",
       "59              ROCHESTER NO 14 OUTFALL @ COCKBILL ROAD\n",
       "60                        CAMPASPE DRAIN NO 5 @ OUTFALL\n",
       "61                CAMPASPE DR NO 4 U/S NORTHERN HIGHWAY\n",
       "62            OLD DEAKIN DRAIN NO 5 @ ECHUCA-KYABRAM RD\n",
       "63                                MURRAY RIVER @ ECHUCA\n",
       "64          MURRAY RIVER @ D/S CAMPASPE R (PIANTA ROAD)\n",
       "Name: Site Name, dtype: object"
      ]
     },
     "execution_count": 20,
     "metadata": {},
     "output_type": "execute_result"
    }
   ],
   "source": [
    "site_details['Site Name']"
   ]
  },
  {
   "cell_type": "markdown",
   "metadata": {},
   "source": [
    "Filter based on whether Site Name contains \"Campaspe\" ..."
   ]
  },
  {
   "cell_type": "code",
   "execution_count": 21,
   "metadata": {
    "collapsed": false
   },
   "outputs": [
    {
     "data": {
      "text/html": [
       "<div>\n",
       "<table border=\"1\" class=\"dataframe\">\n",
       "  <thead>\n",
       "    <tr style=\"text-align: right;\">\n",
       "      <th></th>\n",
       "      <th>Site Id</th>\n",
       "      <th>Site Name</th>\n",
       "      <th>Latitude</th>\n",
       "      <th>Longitude</th>\n",
       "      <th>Easting</th>\n",
       "      <th>Northing</th>\n",
       "      <th>Zone</th>\n",
       "      <th>Gauge Zero (Ahd)</th>\n",
       "      <th>Site Start Date</th>\n",
       "      <th>Site Cease Date</th>\n",
       "      <th>Drainage Area (Sq.km)</th>\n",
       "      <th>Cease to flow level</th>\n",
       "      <th>Min value</th>\n",
       "    </tr>\n",
       "  </thead>\n",
       "  <tbody>\n",
       "    <tr>\n",
       "      <th>1</th>\n",
       "      <td>406201</td>\n",
       "      <td>CAMPASPE RIVER @ BARNADOWN</td>\n",
       "      <td>-36.629210</td>\n",
       "      <td>144.554501</td>\n",
       "      <td>281337.0</td>\n",
       "      <td>5943460.0</td>\n",
       "      <td>55</td>\n",
       "      <td>132.489</td>\n",
       "      <td>1881/03/01</td>\n",
       "      <td>NaN</td>\n",
       "      <td>2528.0</td>\n",
       "      <td>1.229</td>\n",
       "      <td>NaN</td>\n",
       "    </tr>\n",
       "    <tr>\n",
       "      <th>2</th>\n",
       "      <td>406202</td>\n",
       "      <td>CAMPASPE RIVER @ ROCHESTER D/S WARANGA WESTERN...</td>\n",
       "      <td>-36.331931</td>\n",
       "      <td>144.700967</td>\n",
       "      <td>293648.0</td>\n",
       "      <td>5976767.0</td>\n",
       "      <td>55</td>\n",
       "      <td>103.615</td>\n",
       "      <td>1885/01/01</td>\n",
       "      <td>NaN</td>\n",
       "      <td>3398.0</td>\n",
       "      <td>1.366</td>\n",
       "      <td>NaN</td>\n",
       "    </tr>\n",
       "    <tr>\n",
       "      <th>3</th>\n",
       "      <td>406203</td>\n",
       "      <td>CAMPASPE RIVER @ CAMPASPE WEIR</td>\n",
       "      <td>-36.438056</td>\n",
       "      <td>144.658250</td>\n",
       "      <td>290098.9</td>\n",
       "      <td>5964900.4</td>\n",
       "      <td>55</td>\n",
       "      <td>111.932</td>\n",
       "      <td>1/07/1908</td>\n",
       "      <td>20/08/1976</td>\n",
       "      <td>3269.0</td>\n",
       "      <td>0.000</td>\n",
       "      <td>NaN</td>\n",
       "    </tr>\n",
       "    <tr>\n",
       "      <th>4</th>\n",
       "      <td>406205</td>\n",
       "      <td>CAMPASPE RIVER @ ELMORE</td>\n",
       "      <td>-36.498417</td>\n",
       "      <td>144.611806</td>\n",
       "      <td>286101.2</td>\n",
       "      <td>5958101.1</td>\n",
       "      <td>55</td>\n",
       "      <td>115.511</td>\n",
       "      <td>1/12/1945</td>\n",
       "      <td>31/12/1964</td>\n",
       "      <td>3147.0</td>\n",
       "      <td>4.801</td>\n",
       "      <td>NaN</td>\n",
       "    </tr>\n",
       "    <tr>\n",
       "      <th>5</th>\n",
       "      <td>406206</td>\n",
       "      <td>CAMPASPE RIVER @ AXEDALE</td>\n",
       "      <td>-36.792778</td>\n",
       "      <td>144.506306</td>\n",
       "      <td>277499.4</td>\n",
       "      <td>5925199.9</td>\n",
       "      <td>55</td>\n",
       "      <td>0.000</td>\n",
       "      <td>1/01/1919</td>\n",
       "      <td>2/08/1965</td>\n",
       "      <td>2150.0</td>\n",
       "      <td>0.000</td>\n",
       "      <td>NaN</td>\n",
       "    </tr>\n",
       "    <tr>\n",
       "      <th>6</th>\n",
       "      <td>406207</td>\n",
       "      <td>CAMPASPE RIVER @ EPPALOCK</td>\n",
       "      <td>-36.843321</td>\n",
       "      <td>144.530181</td>\n",
       "      <td>279775.0</td>\n",
       "      <td>5919647.0</td>\n",
       "      <td>55</td>\n",
       "      <td>0.000</td>\n",
       "      <td>14/04/1931</td>\n",
       "      <td>NaN</td>\n",
       "      <td>2028.0</td>\n",
       "      <td>152.752</td>\n",
       "      <td>NaN</td>\n",
       "    </tr>\n",
       "    <tr>\n",
       "      <th>11</th>\n",
       "      <td>406214</td>\n",
       "      <td>AXE CREEK @ LONGLEA</td>\n",
       "      <td>-36.773492</td>\n",
       "      <td>144.428105</td>\n",
       "      <td>270463.0</td>\n",
       "      <td>5927155.0</td>\n",
       "      <td>55</td>\n",
       "      <td>167.542</td>\n",
       "      <td>10/03/1965</td>\n",
       "      <td>NaN</td>\n",
       "      <td>234.0</td>\n",
       "      <td>0.303</td>\n",
       "      <td>NaN</td>\n",
       "    </tr>\n",
       "    <tr>\n",
       "      <th>15</th>\n",
       "      <td>406218</td>\n",
       "      <td>CAMPASPE RIVER @ CAMPASPE WEIR (HEAD GAUGE)</td>\n",
       "      <td>-36.436388</td>\n",
       "      <td>144.658981</td>\n",
       "      <td>290160.0</td>\n",
       "      <td>5965087.0</td>\n",
       "      <td>55</td>\n",
       "      <td>0.000</td>\n",
       "      <td>1893/07/01</td>\n",
       "      <td>NaN</td>\n",
       "      <td>3269.0</td>\n",
       "      <td>-1.020</td>\n",
       "      <td>119.083</td>\n",
       "    </tr>\n",
       "    <tr>\n",
       "      <th>20</th>\n",
       "      <td>406224</td>\n",
       "      <td>MOUNT PLEASANT CREEK @ RUNNYMEDE</td>\n",
       "      <td>-36.545656</td>\n",
       "      <td>144.637705</td>\n",
       "      <td>288550.0</td>\n",
       "      <td>5952917.0</td>\n",
       "      <td>55</td>\n",
       "      <td>129.990</td>\n",
       "      <td>21/06/1974</td>\n",
       "      <td>NaN</td>\n",
       "      <td>248.0</td>\n",
       "      <td>0.994</td>\n",
       "      <td>0.311</td>\n",
       "    </tr>\n",
       "    <tr>\n",
       "      <th>26</th>\n",
       "      <td>406262</td>\n",
       "      <td>AXE CREEK @ STRATHFIELDSAYE</td>\n",
       "      <td>-36.810917</td>\n",
       "      <td>144.391211</td>\n",
       "      <td>267283.0</td>\n",
       "      <td>5922913.0</td>\n",
       "      <td>55</td>\n",
       "      <td>0.000</td>\n",
       "      <td>23/05/1989</td>\n",
       "      <td>NaN</td>\n",
       "      <td>83.0</td>\n",
       "      <td>1.100</td>\n",
       "      <td>0.476</td>\n",
       "    </tr>\n",
       "    <tr>\n",
       "      <th>29</th>\n",
       "      <td>406265</td>\n",
       "      <td>CAMPASPE RIVER @ ECHUCA</td>\n",
       "      <td>-36.144721</td>\n",
       "      <td>144.735339</td>\n",
       "      <td>296248.0</td>\n",
       "      <td>5997610.0</td>\n",
       "      <td>55</td>\n",
       "      <td>0.000</td>\n",
       "      <td>18/04/1991</td>\n",
       "      <td>NaN</td>\n",
       "      <td>0.0</td>\n",
       "      <td>87.397</td>\n",
       "      <td>87.321</td>\n",
       "    </tr>\n",
       "    <tr>\n",
       "      <th>32</th>\n",
       "      <td>406275</td>\n",
       "      <td>CAMPASPE RIVER @ BURNEWANG-BONN ROAD</td>\n",
       "      <td>-36.406025</td>\n",
       "      <td>144.693800</td>\n",
       "      <td>293201.0</td>\n",
       "      <td>5968531.0</td>\n",
       "      <td>55</td>\n",
       "      <td>0.000</td>\n",
       "      <td>28/03/2007</td>\n",
       "      <td>NaN</td>\n",
       "      <td>0.0</td>\n",
       "      <td>0.000</td>\n",
       "      <td>1.018</td>\n",
       "    </tr>\n",
       "    <tr>\n",
       "      <th>33</th>\n",
       "      <td>406276</td>\n",
       "      <td>CAMPASPE RIVER @ FEHRINGS LANE</td>\n",
       "      <td>-36.150442</td>\n",
       "      <td>144.737119</td>\n",
       "      <td>296423.0</td>\n",
       "      <td>5996979.0</td>\n",
       "      <td>55</td>\n",
       "      <td>0.000</td>\n",
       "      <td>29/03/2007</td>\n",
       "      <td>NaN</td>\n",
       "      <td>0.0</td>\n",
       "      <td>0.000</td>\n",
       "      <td>0.642</td>\n",
       "    </tr>\n",
       "    <tr>\n",
       "      <th>34</th>\n",
       "      <td>406277</td>\n",
       "      <td>CAMPASPE RIVER @ DOAKS RESERVE</td>\n",
       "      <td>-36.815682</td>\n",
       "      <td>144.517720</td>\n",
       "      <td>278584.0</td>\n",
       "      <td>5922685.0</td>\n",
       "      <td>55</td>\n",
       "      <td>0.000</td>\n",
       "      <td>9/03/2007</td>\n",
       "      <td>24/04/2014</td>\n",
       "      <td>0.0</td>\n",
       "      <td>0.000</td>\n",
       "      <td>0.000</td>\n",
       "    </tr>\n",
       "    <tr>\n",
       "      <th>35</th>\n",
       "      <td>406278</td>\n",
       "      <td>CAMPASPE RIVER @ BACKHAUS ROAD</td>\n",
       "      <td>-36.697647</td>\n",
       "      <td>144.525495</td>\n",
       "      <td>278939.0</td>\n",
       "      <td>5935800.0</td>\n",
       "      <td>55</td>\n",
       "      <td>0.000</td>\n",
       "      <td>16/03/2007</td>\n",
       "      <td>30/06/2014</td>\n",
       "      <td>0.0</td>\n",
       "      <td>0.000</td>\n",
       "      <td>0.000</td>\n",
       "    </tr>\n",
       "  </tbody>\n",
       "</table>\n",
       "</div>"
      ],
      "text/plain": [
       "    Site Id                                          Site Name   Latitude  \\\n",
       "1    406201                         CAMPASPE RIVER @ BARNADOWN -36.629210   \n",
       "2    406202  CAMPASPE RIVER @ ROCHESTER D/S WARANGA WESTERN... -36.331931   \n",
       "3    406203                     CAMPASPE RIVER @ CAMPASPE WEIR -36.438056   \n",
       "4    406205                            CAMPASPE RIVER @ ELMORE -36.498417   \n",
       "5    406206                           CAMPASPE RIVER @ AXEDALE -36.792778   \n",
       "6    406207                          CAMPASPE RIVER @ EPPALOCK -36.843321   \n",
       "11   406214                                AXE CREEK @ LONGLEA -36.773492   \n",
       "15   406218        CAMPASPE RIVER @ CAMPASPE WEIR (HEAD GAUGE) -36.436388   \n",
       "20   406224                   MOUNT PLEASANT CREEK @ RUNNYMEDE -36.545656   \n",
       "26   406262                        AXE CREEK @ STRATHFIELDSAYE -36.810917   \n",
       "29   406265                            CAMPASPE RIVER @ ECHUCA -36.144721   \n",
       "32   406275               CAMPASPE RIVER @ BURNEWANG-BONN ROAD -36.406025   \n",
       "33   406276                     CAMPASPE RIVER @ FEHRINGS LANE -36.150442   \n",
       "34   406277                     CAMPASPE RIVER @ DOAKS RESERVE -36.815682   \n",
       "35   406278                     CAMPASPE RIVER @ BACKHAUS ROAD -36.697647   \n",
       "\n",
       "     Longitude   Easting   Northing  Zone  Gauge Zero (Ahd) Site Start Date  \\\n",
       "1   144.554501  281337.0  5943460.0    55           132.489      1881/03/01   \n",
       "2   144.700967  293648.0  5976767.0    55           103.615      1885/01/01   \n",
       "3   144.658250  290098.9  5964900.4    55           111.932       1/07/1908   \n",
       "4   144.611806  286101.2  5958101.1    55           115.511       1/12/1945   \n",
       "5   144.506306  277499.4  5925199.9    55             0.000       1/01/1919   \n",
       "6   144.530181  279775.0  5919647.0    55             0.000      14/04/1931   \n",
       "11  144.428105  270463.0  5927155.0    55           167.542      10/03/1965   \n",
       "15  144.658981  290160.0  5965087.0    55             0.000      1893/07/01   \n",
       "20  144.637705  288550.0  5952917.0    55           129.990      21/06/1974   \n",
       "26  144.391211  267283.0  5922913.0    55             0.000      23/05/1989   \n",
       "29  144.735339  296248.0  5997610.0    55             0.000      18/04/1991   \n",
       "32  144.693800  293201.0  5968531.0    55             0.000      28/03/2007   \n",
       "33  144.737119  296423.0  5996979.0    55             0.000      29/03/2007   \n",
       "34  144.517720  278584.0  5922685.0    55             0.000       9/03/2007   \n",
       "35  144.525495  278939.0  5935800.0    55             0.000      16/03/2007   \n",
       "\n",
       "   Site Cease Date  Drainage Area (Sq.km)  Cease to flow level  Min value  \n",
       "1              NaN                 2528.0                1.229        NaN  \n",
       "2              NaN                 3398.0                1.366        NaN  \n",
       "3       20/08/1976                 3269.0                0.000        NaN  \n",
       "4       31/12/1964                 3147.0                4.801        NaN  \n",
       "5        2/08/1965                 2150.0                0.000        NaN  \n",
       "6              NaN                 2028.0              152.752        NaN  \n",
       "11             NaN                  234.0                0.303        NaN  \n",
       "15             NaN                 3269.0               -1.020    119.083  \n",
       "20             NaN                  248.0                0.994      0.311  \n",
       "26             NaN                   83.0                1.100      0.476  \n",
       "29             NaN                    0.0               87.397     87.321  \n",
       "32             NaN                    0.0                0.000      1.018  \n",
       "33             NaN                    0.0                0.000      0.642  \n",
       "34      24/04/2014                    0.0                0.000      0.000  \n",
       "35      30/06/2014                    0.0                0.000      0.000  "
      ]
     },
     "execution_count": 21,
     "metadata": {},
     "output_type": "execute_result"
    }
   ],
   "source": [
    "Campaspe = site_details[site_details['Site Name'].str.contains(\"CAMPASPE RIVER\")| \\\n",
    "                        site_details['Site Name'].str.contains(\"AXE CREEK\")| \\\n",
    "                        site_details['Site Name'].str.contains(\"MOUNT PLEASANT CREEK\")]\n",
    "Campaspe = Campaspe[Campaspe['Northing'] >= \\\n",
    "                    Campaspe.loc[6]['Northing']]\n",
    "Campaspe"
   ]
  },
  {
   "cell_type": "code",
   "execution_count": 8,
   "metadata": {
    "collapsed": false
   },
   "outputs": [
    {
     "ename": "NameError",
     "evalue": "name 'point_merge2' is not defined",
     "output_type": "error",
     "traceback": [
      "\u001b[0;31m---------------------------------------------------------------------------\u001b[0m",
      "\u001b[0;31mNameError\u001b[0m                                 Traceback (most recent call last)",
      "\u001b[0;32m<ipython-input-8-b2b42e175e05>\u001b[0m in \u001b[0;36m<module>\u001b[0;34m()\u001b[0m\n\u001b[1;32m      2\u001b[0m \u001b[0max\u001b[0m \u001b[1;33m=\u001b[0m \u001b[0mfig\u001b[0m\u001b[1;33m.\u001b[0m\u001b[0madd_subplot\u001b[0m\u001b[1;33m(\u001b[0m\u001b[1;36m111\u001b[0m\u001b[1;33m)\u001b[0m\u001b[1;33m\u001b[0m\u001b[0m\n\u001b[1;32m      3\u001b[0m \u001b[0mCampaspe\u001b[0m\u001b[1;33m.\u001b[0m\u001b[0mplot\u001b[0m\u001b[1;33m(\u001b[0m\u001b[0mkind\u001b[0m\u001b[1;33m=\u001b[0m\u001b[1;34m'scatter'\u001b[0m\u001b[1;33m,\u001b[0m \u001b[0mx\u001b[0m\u001b[1;33m=\u001b[0m\u001b[1;34m'Easting'\u001b[0m\u001b[1;33m,\u001b[0m \u001b[0my\u001b[0m\u001b[1;33m=\u001b[0m\u001b[1;34m'Northing'\u001b[0m\u001b[1;33m,\u001b[0m \u001b[0max\u001b[0m\u001b[1;33m=\u001b[0m\u001b[0max\u001b[0m\u001b[1;33m)\u001b[0m\u001b[1;33m\u001b[0m\u001b[0m\n\u001b[0;32m----> 4\u001b[0;31m \u001b[0max\u001b[0m\u001b[1;33m.\u001b[0m\u001b[0mplot\u001b[0m\u001b[1;33m(\u001b[0m\u001b[1;33m[\u001b[0m\u001b[0mx\u001b[0m\u001b[1;33m[\u001b[0m\u001b[1;36m0\u001b[0m\u001b[1;33m]\u001b[0m \u001b[1;32mfor\u001b[0m \u001b[0mx\u001b[0m \u001b[1;32min\u001b[0m \u001b[0mpoint_merge2\u001b[0m\u001b[1;33m]\u001b[0m\u001b[1;33m,\u001b[0m \u001b[1;33m[\u001b[0m\u001b[0mx\u001b[0m\u001b[1;33m[\u001b[0m\u001b[1;36m1\u001b[0m\u001b[1;33m]\u001b[0m \u001b[1;32mfor\u001b[0m \u001b[0mx\u001b[0m \u001b[1;32min\u001b[0m \u001b[0mpoint_merge2\u001b[0m\u001b[1;33m]\u001b[0m\u001b[1;33m,\u001b[0m \u001b[0malpha\u001b[0m \u001b[1;33m=\u001b[0m \u001b[1;36m0.3\u001b[0m\u001b[1;33m)\u001b[0m\u001b[1;33m\u001b[0m\u001b[0m\n\u001b[0m\u001b[1;32m      5\u001b[0m \u001b[1;32mfor\u001b[0m \u001b[0mk\u001b[0m\u001b[1;33m,\u001b[0m \u001b[0mv\u001b[0m \u001b[1;32min\u001b[0m \u001b[0mCampaspe\u001b[0m\u001b[1;33m.\u001b[0m\u001b[0miterrows\u001b[0m\u001b[1;33m(\u001b[0m\u001b[1;33m)\u001b[0m\u001b[1;33m:\u001b[0m\u001b[1;33m\u001b[0m\u001b[0m\n\u001b[1;32m      6\u001b[0m     \u001b[1;31m#print k, v, v['Site Name']\u001b[0m\u001b[1;33m\u001b[0m\u001b[1;33m\u001b[0m\u001b[0m\n",
      "\u001b[0;31mNameError\u001b[0m: name 'point_merge2' is not defined"
     ]
    },
    {
     "data": {
      "image/png": "[encoded data removed]",
      "text/plain": [
       "<matplotlib.figure.Figure at 0x9c10588>"
      ]
     },
     "metadata": {},
     "output_type": "display_data"
    }
   ],
   "source": [
    "fig = plt.figure(figsize=(5,12))\n",
    "ax = fig.add_subplot(111)\n",
    "Campaspe.plot(kind='scatter', x='Easting', y='Northing', ax=ax)\n",
    "ax.plot([x[0] for x in point_merge2], [x[1] for x in point_merge2], alpha = 0.3)\n",
    "for k, v in Campaspe.iterrows():\n",
    "    #print k, v, v['Site Name']\n",
    "    ax.annotate(v['Site Name'], xy=(v['Easting'], v['Northing']))\n",
    "plt.axes().set_aspect('equal', 'datalim')"
   ]
  },
  {
   "cell_type": "markdown",
   "metadata": {},
   "source": [
    "### Assessing river sampling stations to estimate bed elevations along the river\n",
    "Makes use of the following information if it exsits for each site (in mAHD) in the site details file:\n",
    "1. gauge zero,\n",
    "2. cease to flow level, or\n",
    "3. min level"
   ]
  },
  {
   "cell_type": "code",
   "execution_count": 22,
   "metadata": {
    "collapsed": false
   },
   "outputs": [
    {
     "data": {
      "text/html": [
       "<div>\n",
       "<table border=\"1\" class=\"dataframe\">\n",
       "  <thead>\n",
       "    <tr style=\"text-align: right;\">\n",
       "      <th></th>\n",
       "      <th>Site Id</th>\n",
       "      <th>Site Name</th>\n",
       "      <th>Latitude</th>\n",
       "      <th>Longitude</th>\n",
       "      <th>Easting</th>\n",
       "      <th>Northing</th>\n",
       "      <th>Zone</th>\n",
       "      <th>Gauge Zero (Ahd)</th>\n",
       "      <th>Site Start Date</th>\n",
       "      <th>Site Cease Date</th>\n",
       "      <th>Drainage Area (Sq.km)</th>\n",
       "      <th>Cease to flow level</th>\n",
       "      <th>Min value</th>\n",
       "    </tr>\n",
       "  </thead>\n",
       "  <tbody>\n",
       "    <tr>\n",
       "      <th>1</th>\n",
       "      <td>406201</td>\n",
       "      <td>CAMPASPE RIVER @ BARNADOWN</td>\n",
       "      <td>-36.629210</td>\n",
       "      <td>144.554501</td>\n",
       "      <td>281337.0</td>\n",
       "      <td>5943460.0</td>\n",
       "      <td>55</td>\n",
       "      <td>132.489</td>\n",
       "      <td>1881/03/01</td>\n",
       "      <td>NaN</td>\n",
       "      <td>2528.0</td>\n",
       "      <td>1.229</td>\n",
       "      <td>NaN</td>\n",
       "    </tr>\n",
       "    <tr>\n",
       "      <th>2</th>\n",
       "      <td>406202</td>\n",
       "      <td>CAMPASPE RIVER @ ROCHESTER D/S WARANGA WESTERN...</td>\n",
       "      <td>-36.331931</td>\n",
       "      <td>144.700967</td>\n",
       "      <td>293648.0</td>\n",
       "      <td>5976767.0</td>\n",
       "      <td>55</td>\n",
       "      <td>103.615</td>\n",
       "      <td>1885/01/01</td>\n",
       "      <td>NaN</td>\n",
       "      <td>3398.0</td>\n",
       "      <td>1.366</td>\n",
       "      <td>NaN</td>\n",
       "    </tr>\n",
       "    <tr>\n",
       "      <th>3</th>\n",
       "      <td>406203</td>\n",
       "      <td>CAMPASPE RIVER @ CAMPASPE WEIR</td>\n",
       "      <td>-36.438056</td>\n",
       "      <td>144.658250</td>\n",
       "      <td>290098.9</td>\n",
       "      <td>5964900.4</td>\n",
       "      <td>55</td>\n",
       "      <td>111.932</td>\n",
       "      <td>1/07/1908</td>\n",
       "      <td>20/08/1976</td>\n",
       "      <td>3269.0</td>\n",
       "      <td>0.000</td>\n",
       "      <td>NaN</td>\n",
       "    </tr>\n",
       "    <tr>\n",
       "      <th>4</th>\n",
       "      <td>406205</td>\n",
       "      <td>CAMPASPE RIVER @ ELMORE</td>\n",
       "      <td>-36.498417</td>\n",
       "      <td>144.611806</td>\n",
       "      <td>286101.2</td>\n",
       "      <td>5958101.1</td>\n",
       "      <td>55</td>\n",
       "      <td>115.511</td>\n",
       "      <td>1/12/1945</td>\n",
       "      <td>31/12/1964</td>\n",
       "      <td>3147.0</td>\n",
       "      <td>4.801</td>\n",
       "      <td>NaN</td>\n",
       "    </tr>\n",
       "    <tr>\n",
       "      <th>6</th>\n",
       "      <td>406207</td>\n",
       "      <td>CAMPASPE RIVER @ EPPALOCK</td>\n",
       "      <td>-36.843321</td>\n",
       "      <td>144.530181</td>\n",
       "      <td>279775.0</td>\n",
       "      <td>5919647.0</td>\n",
       "      <td>55</td>\n",
       "      <td>0.000</td>\n",
       "      <td>14/04/1931</td>\n",
       "      <td>NaN</td>\n",
       "      <td>2028.0</td>\n",
       "      <td>152.752</td>\n",
       "      <td>NaN</td>\n",
       "    </tr>\n",
       "    <tr>\n",
       "      <th>11</th>\n",
       "      <td>406214</td>\n",
       "      <td>AXE CREEK @ LONGLEA</td>\n",
       "      <td>-36.773492</td>\n",
       "      <td>144.428105</td>\n",
       "      <td>270463.0</td>\n",
       "      <td>5927155.0</td>\n",
       "      <td>55</td>\n",
       "      <td>167.542</td>\n",
       "      <td>10/03/1965</td>\n",
       "      <td>NaN</td>\n",
       "      <td>234.0</td>\n",
       "      <td>0.303</td>\n",
       "      <td>NaN</td>\n",
       "    </tr>\n",
       "    <tr>\n",
       "      <th>15</th>\n",
       "      <td>406218</td>\n",
       "      <td>CAMPASPE RIVER @ CAMPASPE WEIR (HEAD GAUGE)</td>\n",
       "      <td>-36.436388</td>\n",
       "      <td>144.658981</td>\n",
       "      <td>290160.0</td>\n",
       "      <td>5965087.0</td>\n",
       "      <td>55</td>\n",
       "      <td>0.000</td>\n",
       "      <td>1893/07/01</td>\n",
       "      <td>NaN</td>\n",
       "      <td>3269.0</td>\n",
       "      <td>-1.020</td>\n",
       "      <td>119.083</td>\n",
       "    </tr>\n",
       "    <tr>\n",
       "      <th>20</th>\n",
       "      <td>406224</td>\n",
       "      <td>MOUNT PLEASANT CREEK @ RUNNYMEDE</td>\n",
       "      <td>-36.545656</td>\n",
       "      <td>144.637705</td>\n",
       "      <td>288550.0</td>\n",
       "      <td>5952917.0</td>\n",
       "      <td>55</td>\n",
       "      <td>129.990</td>\n",
       "      <td>21/06/1974</td>\n",
       "      <td>NaN</td>\n",
       "      <td>248.0</td>\n",
       "      <td>0.994</td>\n",
       "      <td>0.311</td>\n",
       "    </tr>\n",
       "    <tr>\n",
       "      <th>29</th>\n",
       "      <td>406265</td>\n",
       "      <td>CAMPASPE RIVER @ ECHUCA</td>\n",
       "      <td>-36.144721</td>\n",
       "      <td>144.735339</td>\n",
       "      <td>296248.0</td>\n",
       "      <td>5997610.0</td>\n",
       "      <td>55</td>\n",
       "      <td>0.000</td>\n",
       "      <td>18/04/1991</td>\n",
       "      <td>NaN</td>\n",
       "      <td>0.0</td>\n",
       "      <td>87.397</td>\n",
       "      <td>87.321</td>\n",
       "    </tr>\n",
       "  </tbody>\n",
       "</table>\n",
       "</div>"
      ],
      "text/plain": [
       "    Site Id                                          Site Name   Latitude  \\\n",
       "1    406201                         CAMPASPE RIVER @ BARNADOWN -36.629210   \n",
       "2    406202  CAMPASPE RIVER @ ROCHESTER D/S WARANGA WESTERN... -36.331931   \n",
       "3    406203                     CAMPASPE RIVER @ CAMPASPE WEIR -36.438056   \n",
       "4    406205                            CAMPASPE RIVER @ ELMORE -36.498417   \n",
       "6    406207                          CAMPASPE RIVER @ EPPALOCK -36.843321   \n",
       "11   406214                                AXE CREEK @ LONGLEA -36.773492   \n",
       "15   406218        CAMPASPE RIVER @ CAMPASPE WEIR (HEAD GAUGE) -36.436388   \n",
       "20   406224                   MOUNT PLEASANT CREEK @ RUNNYMEDE -36.545656   \n",
       "29   406265                            CAMPASPE RIVER @ ECHUCA -36.144721   \n",
       "\n",
       "     Longitude   Easting   Northing  Zone  Gauge Zero (Ahd) Site Start Date  \\\n",
       "1   144.554501  281337.0  5943460.0    55           132.489      1881/03/01   \n",
       "2   144.700967  293648.0  5976767.0    55           103.615      1885/01/01   \n",
       "3   144.658250  290098.9  5964900.4    55           111.932       1/07/1908   \n",
       "4   144.611806  286101.2  5958101.1    55           115.511       1/12/1945   \n",
       "6   144.530181  279775.0  5919647.0    55             0.000      14/04/1931   \n",
       "11  144.428105  270463.0  5927155.0    55           167.542      10/03/1965   \n",
       "15  144.658981  290160.0  5965087.0    55             0.000      1893/07/01   \n",
       "20  144.637705  288550.0  5952917.0    55           129.990      21/06/1974   \n",
       "29  144.735339  296248.0  5997610.0    55             0.000      18/04/1991   \n",
       "\n",
       "   Site Cease Date  Drainage Area (Sq.km)  Cease to flow level  Min value  \n",
       "1              NaN                 2528.0                1.229        NaN  \n",
       "2              NaN                 3398.0                1.366        NaN  \n",
       "3       20/08/1976                 3269.0                0.000        NaN  \n",
       "4       31/12/1964                 3147.0                4.801        NaN  \n",
       "6              NaN                 2028.0              152.752        NaN  \n",
       "11             NaN                  234.0                0.303        NaN  \n",
       "15             NaN                 3269.0               -1.020    119.083  \n",
       "20             NaN                  248.0                0.994      0.311  \n",
       "29             NaN                    0.0               87.397     87.321  "
      ]
     },
     "execution_count": 22,
     "metadata": {},
     "output_type": "execute_result"
    }
   ],
   "source": [
    "Campaspe_gauge_zero = Campaspe[(Campaspe['Gauge Zero (Ahd)'] > 0.0) | \\\n",
    "                               (Campaspe['Cease to flow level'] > 10.0) | \\\n",
    "                               (Campaspe['Min value'] > 10.0)]\n",
    "Campaspe_gauge_zero"
   ]
  },
  {
   "cell_type": "code",
   "execution_count": 10,
   "metadata": {
    "collapsed": false
   },
   "outputs": [
    {
     "ename": "NameError",
     "evalue": "name 'point_merge2' is not defined",
     "output_type": "error",
     "traceback": [
      "\u001b[0;31m---------------------------------------------------------------------------\u001b[0m",
      "\u001b[0;31mNameError\u001b[0m                                 Traceback (most recent call last)",
      "\u001b[0;32m<ipython-input-10-085ac41dbb33>\u001b[0m in \u001b[0;36m<module>\u001b[0;34m()\u001b[0m\n\u001b[1;32m      2\u001b[0m \u001b[0max\u001b[0m \u001b[1;33m=\u001b[0m \u001b[0mfig\u001b[0m\u001b[1;33m.\u001b[0m\u001b[0madd_subplot\u001b[0m\u001b[1;33m(\u001b[0m\u001b[1;36m111\u001b[0m\u001b[1;33m)\u001b[0m\u001b[1;33m\u001b[0m\u001b[0m\n\u001b[1;32m      3\u001b[0m \u001b[0mCampaspe_gauge_zero\u001b[0m\u001b[1;33m.\u001b[0m\u001b[0mplot\u001b[0m\u001b[1;33m(\u001b[0m\u001b[0mkind\u001b[0m\u001b[1;33m=\u001b[0m\u001b[1;34m'scatter'\u001b[0m\u001b[1;33m,\u001b[0m \u001b[0mx\u001b[0m\u001b[1;33m=\u001b[0m\u001b[1;34m'Easting'\u001b[0m\u001b[1;33m,\u001b[0m \u001b[0my\u001b[0m\u001b[1;33m=\u001b[0m\u001b[1;34m'Northing'\u001b[0m\u001b[1;33m,\u001b[0m \u001b[0max\u001b[0m\u001b[1;33m=\u001b[0m\u001b[0max\u001b[0m\u001b[1;33m)\u001b[0m\u001b[1;33m\u001b[0m\u001b[0m\n\u001b[0;32m----> 4\u001b[0;31m \u001b[0max\u001b[0m\u001b[1;33m.\u001b[0m\u001b[0mplot\u001b[0m\u001b[1;33m(\u001b[0m\u001b[1;33m[\u001b[0m\u001b[0mx\u001b[0m\u001b[1;33m[\u001b[0m\u001b[1;36m0\u001b[0m\u001b[1;33m]\u001b[0m \u001b[1;32mfor\u001b[0m \u001b[0mx\u001b[0m \u001b[1;32min\u001b[0m \u001b[0mpoint_merge2\u001b[0m\u001b[1;33m]\u001b[0m\u001b[1;33m,\u001b[0m \u001b[1;33m[\u001b[0m\u001b[0mx\u001b[0m\u001b[1;33m[\u001b[0m\u001b[1;36m1\u001b[0m\u001b[1;33m]\u001b[0m \u001b[1;32mfor\u001b[0m \u001b[0mx\u001b[0m \u001b[1;32min\u001b[0m \u001b[0mpoint_merge2\u001b[0m\u001b[1;33m]\u001b[0m\u001b[1;33m,\u001b[0m \u001b[0malpha\u001b[0m \u001b[1;33m=\u001b[0m \u001b[1;36m0.3\u001b[0m\u001b[1;33m)\u001b[0m\u001b[1;33m\u001b[0m\u001b[0m\n\u001b[0m\u001b[1;32m      5\u001b[0m \u001b[1;32mfor\u001b[0m \u001b[0mk\u001b[0m\u001b[1;33m,\u001b[0m \u001b[0mv\u001b[0m \u001b[1;32min\u001b[0m \u001b[0mCampaspe_gauge_zero\u001b[0m\u001b[1;33m.\u001b[0m\u001b[0miterrows\u001b[0m\u001b[1;33m(\u001b[0m\u001b[1;33m)\u001b[0m\u001b[1;33m:\u001b[0m\u001b[1;33m\u001b[0m\u001b[0m\n\u001b[1;32m      6\u001b[0m     \u001b[1;31m#print k, v, v['Site Name']\u001b[0m\u001b[1;33m\u001b[0m\u001b[1;33m\u001b[0m\u001b[0m\n",
      "\u001b[0;31mNameError\u001b[0m: name 'point_merge2' is not defined"
     ]
    },
    {
     "data": {
      "image/png": "[encoded data removed]",
      "text/plain": [
       "<matplotlib.figure.Figure at 0x9fff240>"
      ]
     },
     "metadata": {},
     "output_type": "display_data"
    }
   ],
   "source": [
    "fig = plt.figure(figsize=(5,12))\n",
    "ax = fig.add_subplot(111)\n",
    "Campaspe_gauge_zero.plot(kind='scatter', x='Easting', y='Northing', ax=ax)\n",
    "ax.plot([x[0] for x in point_merge2], [x[1] for x in point_merge2], alpha = 0.3)\n",
    "for k, v in Campaspe_gauge_zero.iterrows():\n",
    "    #print k, v, v['Site Name']\n",
    "    ax.annotate(v['Site Name'], xy=(v['Easting'], v['Northing']))\n",
    "plt.axes().set_aspect('equal', 'datalim')\n"
   ]
  },
  {
   "cell_type": "markdown",
   "metadata": {},
   "source": [
    "### Function to process flow files including filtering of data based on quality codes"
   ]
  },
  {
   "cell_type": "code",
   "execution_count": 13,
   "metadata": {
    "collapsed": true
   },
   "outputs": [],
   "source": [
    "def getFlow(path=None, start_date=None, end_date=None, summary=False, sites=None):\n",
    "    if path == None:\n",
    "        path = working_directory\n",
    "    #end if\n",
    "    site_details_file = \"Site Details.csv\"\n",
    "    site_details = pd.read_csv(os.path.join(path, site_details_file))\n",
    "    flow_files = [x for x in os.listdir(path) if \"MeanWaterFlow\" in x]\n",
    "\n",
    "    if type(sites) != 'NoneType':\n",
    "        flow_files = [x for x in flow_files if int(x.split('.')[0]) in sites]\n",
    "\n",
    "    flow_stations = [int(x.split('.')[0]) for x in flow_files]\n",
    "    \n",
    "    relevant_data = {'Site ID':[], 'Site Name':[], 'Easting':[], 'Northing':[], 'Mean flow (m3/s)':[], 'Max flow (m3/s)':[], '5th percentile flow (m3/s)':[], 'Min flow (m3/s)':[]}\n",
    "    \n",
    "    processed_river_sites_ts = {}\n",
    "    \n",
    "    for index, flow_file in enumerate(flow_files):\n",
    "        flow_file_df = pd.read_csv(os.path.join(path, flow_file), skiprows=2, index_col='Date', parse_dates=True, dayfirst=True)\n",
    "        if start_date != None:\n",
    "            flow_file_df = flow_file_df.ix[start_date:end_date]\n",
    "        #end if\n",
    "\n",
    "        qual_codes_to_ignore = [8, 9, 21, 100, 101, 120, 149, 150, 151, 152, \n",
    "                                153, 154, 155, 156, 160, 161, 165, 180, 190, \n",
    "                                200, 201, 237, 250, 254, 255]\n",
    "        #qual_codes_to_include = [1, 2, 82]\n",
    "        flow_file_df.drop(flow_file_df[flow_file_df['Qual'].isin(qual_codes_to_ignore)].index, inplace=True)\n",
    "\n",
    "        if flow_file_df.empty:\n",
    "            continue\n",
    "        #end if\n",
    "        \n",
    "        #flow_file_df = flow_file_df.fillna(0) \n",
    "        if flow_file_df['Mean'].max() == 0:\n",
    "            continue\n",
    "        #end if\n",
    "        relevant_site_details = site_details[site_details['Site Id']==[flow_stations[index]]]\n",
    "\n",
    "        relevant_data['Site ID'] += [relevant_site_details['Site Id'].values[0]]\n",
    "        relevant_data['Site Name'] += [relevant_site_details['Site Name'].values[0]]\n",
    "        relevant_data['Easting'] += [float(relevant_site_details['Easting'])]\n",
    "        relevant_data['Northing'] += [float(relevant_site_details['Northing'])]\n",
    "        relevant_data['Mean flow (m3/s)'] += [flow_file_df['Mean'].mean() * 1000. / 86400]\n",
    "        relevant_data['Max flow (m3/s)'] += [flow_file_df['Mean'].max() * 1000. / 86400]\n",
    "        relevant_data['Min flow (m3/s)'] += [flow_file_df['Mean'].min() * 1000. / 86400]\n",
    "        relevant_data['5th percentile flow (m3/s)'] += [flow_file_df['Mean'].quantile(q=0.05) * 1000. / 86400]\n",
    "    \n",
    "    \n",
    "        processed_river_sites_ts[flow_stations[index]] = flow_file_df\n",
    "    # end for    \n",
    "    \n",
    "    processed_river_sites = pd.DataFrame(relevant_data)\n",
    "    return processed_river_sites, processed_river_sites_ts"
   ]
  },
  {
   "cell_type": "code",
   "execution_count": 23,
   "metadata": {
    "collapsed": true
   },
   "outputs": [],
   "source": [
    "flows, flows_ts = getFlow(sites=Campaspe['Site Id'].tolist())"
   ]
  },
  {
   "cell_type": "markdown",
   "metadata": {},
   "source": [
    "Let's sort the data from upstream to downstream using the Northing"
   ]
  },
  {
   "cell_type": "code",
   "execution_count": 24,
   "metadata": {
    "collapsed": false
   },
   "outputs": [
    {
     "data": {
      "text/html": [
       "<div>\n",
       "<table border=\"1\" class=\"dataframe\">\n",
       "  <thead>\n",
       "    <tr style=\"text-align: right;\">\n",
       "      <th></th>\n",
       "      <th>5th percentile flow (m3/s)</th>\n",
       "      <th>Easting</th>\n",
       "      <th>Max flow (m3/s)</th>\n",
       "      <th>Mean flow (m3/s)</th>\n",
       "      <th>Min flow (m3/s)</th>\n",
       "      <th>Northing</th>\n",
       "      <th>Site ID</th>\n",
       "      <th>Site Name</th>\n",
       "    </tr>\n",
       "  </thead>\n",
       "  <tbody>\n",
       "    <tr>\n",
       "      <th>2</th>\n",
       "      <td>0.078779</td>\n",
       "      <td>279775.0</td>\n",
       "      <td>114.314583</td>\n",
       "      <td>1.561308</td>\n",
       "      <td>0.028588</td>\n",
       "      <td>5919647.0</td>\n",
       "      <td>406207</td>\n",
       "      <td>CAMPASPE RIVER @ EPPALOCK</td>\n",
       "    </tr>\n",
       "    <tr>\n",
       "      <th>5</th>\n",
       "      <td>0.000000</td>\n",
       "      <td>267283.0</td>\n",
       "      <td>14.998958</td>\n",
       "      <td>0.120643</td>\n",
       "      <td>0.000000</td>\n",
       "      <td>5922913.0</td>\n",
       "      <td>406262</td>\n",
       "      <td>AXE CREEK @ STRATHFIELDSAYE</td>\n",
       "    </tr>\n",
       "    <tr>\n",
       "      <th>3</th>\n",
       "      <td>0.000000</td>\n",
       "      <td>270463.0</td>\n",
       "      <td>86.474306</td>\n",
       "      <td>0.469486</td>\n",
       "      <td>0.000000</td>\n",
       "      <td>5927155.0</td>\n",
       "      <td>406214</td>\n",
       "      <td>AXE CREEK @ LONGLEA</td>\n",
       "    </tr>\n",
       "    <tr>\n",
       "      <th>0</th>\n",
       "      <td>0.126273</td>\n",
       "      <td>281337.0</td>\n",
       "      <td>351.743750</td>\n",
       "      <td>5.170976</td>\n",
       "      <td>0.000000</td>\n",
       "      <td>5943460.0</td>\n",
       "      <td>406201</td>\n",
       "      <td>CAMPASPE RIVER @ BARNADOWN</td>\n",
       "    </tr>\n",
       "    <tr>\n",
       "      <th>4</th>\n",
       "      <td>0.000000</td>\n",
       "      <td>288550.0</td>\n",
       "      <td>68.333102</td>\n",
       "      <td>0.206141</td>\n",
       "      <td>0.000000</td>\n",
       "      <td>5952917.0</td>\n",
       "      <td>406224</td>\n",
       "      <td>MOUNT PLEASANT CREEK @ RUNNYMEDE</td>\n",
       "    </tr>\n",
       "    <tr>\n",
       "      <th>1</th>\n",
       "      <td>0.000000</td>\n",
       "      <td>293648.0</td>\n",
       "      <td>570.381597</td>\n",
       "      <td>4.968969</td>\n",
       "      <td>0.000000</td>\n",
       "      <td>5976767.0</td>\n",
       "      <td>406202</td>\n",
       "      <td>CAMPASPE RIVER @ ROCHESTER D/S WARANGA WESTERN...</td>\n",
       "    </tr>\n",
       "    <tr>\n",
       "      <th>6</th>\n",
       "      <td>0.011551</td>\n",
       "      <td>296248.0</td>\n",
       "      <td>41.428588</td>\n",
       "      <td>0.645976</td>\n",
       "      <td>0.000000</td>\n",
       "      <td>5997610.0</td>\n",
       "      <td>406265</td>\n",
       "      <td>CAMPASPE RIVER @ ECHUCA</td>\n",
       "    </tr>\n",
       "  </tbody>\n",
       "</table>\n",
       "</div>"
      ],
      "text/plain": [
       "   5th percentile flow (m3/s)   Easting  Max flow (m3/s)  Mean flow (m3/s)  \\\n",
       "2                    0.078779  279775.0       114.314583          1.561308   \n",
       "5                    0.000000  267283.0        14.998958          0.120643   \n",
       "3                    0.000000  270463.0        86.474306          0.469486   \n",
       "0                    0.126273  281337.0       351.743750          5.170976   \n",
       "4                    0.000000  288550.0        68.333102          0.206141   \n",
       "1                    0.000000  293648.0       570.381597          4.968969   \n",
       "6                    0.011551  296248.0        41.428588          0.645976   \n",
       "\n",
       "   Min flow (m3/s)   Northing  Site ID  \\\n",
       "2         0.028588  5919647.0   406207   \n",
       "5         0.000000  5922913.0   406262   \n",
       "3         0.000000  5927155.0   406214   \n",
       "0         0.000000  5943460.0   406201   \n",
       "4         0.000000  5952917.0   406224   \n",
       "1         0.000000  5976767.0   406202   \n",
       "6         0.000000  5997610.0   406265   \n",
       "\n",
       "                                           Site Name  \n",
       "2                          CAMPASPE RIVER @ EPPALOCK  \n",
       "5                        AXE CREEK @ STRATHFIELDSAYE  \n",
       "3                                AXE CREEK @ LONGLEA  \n",
       "0                         CAMPASPE RIVER @ BARNADOWN  \n",
       "4                   MOUNT PLEASANT CREEK @ RUNNYMEDE  \n",
       "1  CAMPASPE RIVER @ ROCHESTER D/S WARANGA WESTERN...  \n",
       "6                            CAMPASPE RIVER @ ECHUCA  "
      ]
     },
     "execution_count": 24,
     "metadata": {},
     "output_type": "execute_result"
    }
   ],
   "source": [
    "flows = flows.sort_values(by='Northing')\n",
    "flows"
   ]
  },
  {
   "cell_type": "markdown",
   "metadata": {},
   "source": [
    "Let's look at the average monthly flows for sites that had useful data:"
   ]
  },
  {
   "cell_type": "code",
   "execution_count": 27,
   "metadata": {
    "collapsed": false
   },
   "outputs": [
    {
     "data": {
      "text/plain": [
       "7"
      ]
     },
     "execution_count": 27,
     "metadata": {},
     "output_type": "execute_result"
    }
   ],
   "source": [
    "flows.shape[0]"
   ]
  },
  {
   "cell_type": "code",
   "execution_count": 54,
   "metadata": {
    "collapsed": false,
    "scrolled": true
   },
   "outputs": [
    {
     "data": {
      "image/png": "[encoded data removed]",
      "text/plain": [
       "<matplotlib.figure.Figure at 0xc983240>"
      ]
     },
     "metadata": {},
     "output_type": "display_data"
    }
   ],
   "source": [
    "fig = plt.figure(figsize=(14, 4))\n",
    "Months = ['Jan', 'Feb', 'Mar', 'Apr', 'May', 'Jun', 'Jul', 'Aug', 'Sep', 'Oct', 'Nov', 'Dec']\n",
    "colors = 'rgbcrgb'\n",
    "ax = fig.add_subplot(111)\n",
    "\n",
    "for index, key in enumerate(flows['Site ID']):\n",
    "    if key not in [406207, 406201, 406202, 406265]:\n",
    "        continue\n",
    "    #ax = fig.add_subplot(flows.shape[0], 1, index + 1)\n",
    "    df_temp = flows_ts[key][flows_ts[key].index > datetime.datetime(2000,1,1)].resample('M').sum()\n",
    "    #df_temp = pd.groupby(df_temp, by=[df_temp.index.month]).mean()\n",
    "    #df_temp['Months'] = Months\n",
    "    #df_temp.plot(kind='bar', x='Months', y='Mean', style='.', color=colors[index], label=key, alpha=1.0, ax=ax)\n",
    "    df_temp.plot(y='Mean', color=colors[index], ax=ax, label=key)\n",
    "    if index != flows.shape[0] - 1:\n",
    "        ax.set_xticklabels([])\n",
    "        ax.set_xlabel(\"\")\n",
    "    if index == 1:\n",
    "        ax.set_ylabel(\"Summed monthly flow (m$^3$/day)\")\n",
    "    #ax.set_xlim(x_lim)\n",
    "    ax.set_ylim(0, 120000)\n",
    "    #print(key, flows_ts[key].index[-1])\n",
    "#ax.set_ylim(0,100)   \n",
    "#legend = ax.legend()\n",
    "#legend.remove()"
   ]
  },
  {
   "cell_type": "markdown",
   "metadata": {},
   "source": [
    "Get the mean flow for each of the stations:"
   ]
  },
  {
   "cell_type": "code",
   "execution_count": 31,
   "metadata": {
    "collapsed": false
   },
   "outputs": [
    {
     "data": {
      "text/plain": [
       "<matplotlib.axes._subplots.AxesSubplot at 0xb2e6710>"
      ]
     },
     "execution_count": 31,
     "metadata": {},
     "output_type": "execute_result"
    },
    {
     "data": {
      "image/png": "[encoded data removed]",
      "text/plain": [
       "<matplotlib.figure.Figure at 0xbe25710>"
      ]
     },
     "metadata": {},
     "output_type": "display_data"
    }
   ],
   "source": [
    "flows.plot(kind='bar', x=['Site ID', 'Site Name'], y=['Mean flow (m3/s)'])"
   ]
  },
  {
   "cell_type": "code",
   "execution_count": 55,
   "metadata": {
    "collapsed": false
   },
   "outputs": [
    {
     "ename": "NameError",
     "evalue": "name 'point_merge2' is not defined",
     "output_type": "error",
     "traceback": [
      "\u001b[0;31m---------------------------------------------------------------------------\u001b[0m",
      "\u001b[0;31mNameError\u001b[0m                                 Traceback (most recent call last)",
      "\u001b[0;32m<ipython-input-55-f9d08a079b19>\u001b[0m in \u001b[0;36m<module>\u001b[0;34m()\u001b[0m\n\u001b[1;32m      2\u001b[0m \u001b[0max\u001b[0m \u001b[1;33m=\u001b[0m \u001b[0mfig\u001b[0m\u001b[1;33m.\u001b[0m\u001b[0madd_subplot\u001b[0m\u001b[1;33m(\u001b[0m\u001b[1;36m111\u001b[0m\u001b[1;33m)\u001b[0m\u001b[1;33m\u001b[0m\u001b[0m\n\u001b[1;32m      3\u001b[0m \u001b[0mflows\u001b[0m\u001b[1;33m.\u001b[0m\u001b[0mplot\u001b[0m\u001b[1;33m(\u001b[0m\u001b[0mkind\u001b[0m\u001b[1;33m=\u001b[0m\u001b[1;34m'scatter'\u001b[0m\u001b[1;33m,\u001b[0m \u001b[0mx\u001b[0m\u001b[1;33m=\u001b[0m\u001b[1;34m'Easting'\u001b[0m\u001b[1;33m,\u001b[0m \u001b[0my\u001b[0m\u001b[1;33m=\u001b[0m\u001b[1;34m'Northing'\u001b[0m\u001b[1;33m,\u001b[0m \u001b[0mcolor\u001b[0m\u001b[1;33m=\u001b[0m\u001b[1;34m'r'\u001b[0m\u001b[1;33m,\u001b[0m \u001b[0max\u001b[0m\u001b[1;33m=\u001b[0m\u001b[0max\u001b[0m\u001b[1;33m)\u001b[0m\u001b[1;33m\u001b[0m\u001b[0m\n\u001b[0;32m----> 4\u001b[0;31m \u001b[0max\u001b[0m\u001b[1;33m.\u001b[0m\u001b[0mplot\u001b[0m\u001b[1;33m(\u001b[0m\u001b[1;33m[\u001b[0m\u001b[0mx\u001b[0m\u001b[1;33m[\u001b[0m\u001b[1;36m0\u001b[0m\u001b[1;33m]\u001b[0m \u001b[1;32mfor\u001b[0m \u001b[0mx\u001b[0m \u001b[1;32min\u001b[0m \u001b[0mpoint_merge2\u001b[0m\u001b[1;33m]\u001b[0m\u001b[1;33m,\u001b[0m \u001b[1;33m[\u001b[0m\u001b[0mx\u001b[0m\u001b[1;33m[\u001b[0m\u001b[1;36m1\u001b[0m\u001b[1;33m]\u001b[0m \u001b[1;32mfor\u001b[0m \u001b[0mx\u001b[0m \u001b[1;32min\u001b[0m \u001b[0mpoint_merge2\u001b[0m\u001b[1;33m]\u001b[0m\u001b[1;33m,\u001b[0m \u001b[0malpha\u001b[0m \u001b[1;33m=\u001b[0m \u001b[1;36m0.3\u001b[0m\u001b[1;33m)\u001b[0m\u001b[1;33m\u001b[0m\u001b[0m\n\u001b[0m\u001b[1;32m      5\u001b[0m \u001b[1;32mfor\u001b[0m \u001b[0mk\u001b[0m\u001b[1;33m,\u001b[0m \u001b[0mv\u001b[0m \u001b[1;32min\u001b[0m \u001b[0mflows\u001b[0m\u001b[1;33m.\u001b[0m\u001b[0miterrows\u001b[0m\u001b[1;33m(\u001b[0m\u001b[1;33m)\u001b[0m\u001b[1;33m:\u001b[0m\u001b[1;33m\u001b[0m\u001b[0m\n\u001b[1;32m      6\u001b[0m     \u001b[1;31m#print k, v, v['Site Name']\u001b[0m\u001b[1;33m\u001b[0m\u001b[1;33m\u001b[0m\u001b[0m\n",
      "\u001b[0;31mNameError\u001b[0m: name 'point_merge2' is not defined"
     ]
    },
    {
     "data": {
      "image/png": "[encoded data removed]",
      "text/plain": [
       "<matplotlib.figure.Figure at 0x9cf2da0>"
      ]
     },
     "metadata": {},
     "output_type": "display_data"
    }
   ],
   "source": [
    "fig = plt.figure(figsize=(5,12))\n",
    "ax = fig.add_subplot(111)\n",
    "flows.plot(kind='scatter', x='Easting', y='Northing', color='r', ax=ax)\n",
    "ax.plot([x[0] for x in point_merge2], [x[1] for x in point_merge2], alpha = 0.3)\n",
    "for k, v in flows.iterrows():\n",
    "    #print k, v, v['Site Name']\n",
    "    ax.annotate(v['Site Name'], xy=(v['Easting'], v['Northing']))\n",
    "plt.axes().set_aspect('equal', 'datalim')"
   ]
  },
  {
   "cell_type": "markdown",
   "metadata": {},
   "source": [
    "## Function to read river levels "
   ]
  },
  {
   "cell_type": "code",
   "execution_count": 56,
   "metadata": {
    "collapsed": true
   },
   "outputs": [],
   "source": [
    "def getStage(path=None, start_date=None, end_date=None, summary=True, sites=None):\n",
    "    '''\n",
    "    Function to process flow data from the \"Water Measurement Information System\"\n",
    "    located at http://data.water.vic.gov.au/monitoring.htm\n",
    "    \n",
    "    '''\n",
    "    \n",
    "    if path == None:\n",
    "        path = working_directory\n",
    "    #end if\n",
    "    site_details_file = \"Site Details.csv\"\n",
    "    site_details = pd.read_csv(os.path.join(path, site_details_file))\n",
    "\n",
    "    stage_files = [x for x in os.listdir(path) if \"MeanWaterLevel\" in x]\n",
    "                   \n",
    "    stage_stations = [int(x.split('.')[0]) for x in stage_files]\n",
    "\n",
    "    if type(sites) != 'NoneType':\n",
    "        stage_files = [x for x in stage_files if int(x.split('.')[0]) in sites]\n",
    "\n",
    "    \n",
    "    relevant_data = {'Site ID':[], 'Site Name':[], 'Easting':[], 'Northing':[], \n",
    "                     'Mean stage (m)':[], 'High stage (m)':[], '5th percentile stage (m)':[], \n",
    "                     'Low stage (m)':[], 'Gauge Zero (Ahd)':[]}\n",
    "    \n",
    "    processed_river_sites_stage_ts = {}\n",
    "    \n",
    "    for index, stage_file in enumerate(stage_files):\n",
    "        stage_file_df = pd.read_csv(os.path.join(path, stage_file), skiprows=2, index_col='Date', \\\n",
    "                                    parse_dates=True, dayfirst=True)\n",
    "        if start_date != None:\n",
    "            stage_file_df = stage_file_df.ix[start_date:end_date]    \n",
    "        #end if\n",
    "        if stage_file_df.empty:\n",
    "            print 'No data at provided dates for: ', stage_file        \n",
    "            continue\n",
    "        #end if \n",
    "        stage_file_df = stage_file_df.fillna(0)        \n",
    "        if stage_file_df['Mean'].max() == 0:\n",
    "            print 'Level reading is 0, so ignoring for: ', stage_file        \n",
    "            continue\n",
    "        \n",
    "        qual_codes_to_ignore = [8, 9, 21, 100, 101, 120, 149, 150, 151, 152, \n",
    "                                153, 154, 155, 156, 160, 161, 165, 180, 190, \n",
    "                                200, 201, 237, 250, 254, 255]\n",
    "        #qual_codes_to_include = [1, 2, 82]\n",
    "        stage_file_df.drop(stage_file_df[stage_file_df['Qual'].isin(qual_codes_to_ignore)].index, inplace=True)\n",
    "        #stage_file_df = stage_file_df[stage_file_df['Qual'].isin(qual_codes_to_include)]\n",
    "        \n",
    "        stage_id = int(stage_file.split('.')[0])\n",
    "        \n",
    "        relevant_site_details = site_details[site_details['Site Id']==stage_id]\n",
    "\n",
    "        if summary:\n",
    "            mean_stage = stage_file_df['Mean'].mean()\n",
    "            high_stage = stage_file_df['Mean'].max()\n",
    "            low_fifth_stage = stage_file_df['Mean'].quantile(q=0.05)\n",
    "            low_stage = stage_file_df['Mean'].min()\n",
    "            if mean_stage < 10.0:\n",
    "                if float(relevant_site_details['Gauge Zero (Ahd)']) > 0.:\n",
    "                    mean_stage += float(relevant_site_details['Gauge Zero (Ahd)'])\n",
    "                    stage_file_df['Mean'] = stage_file_df['Mean'] + float(relevant_site_details['Gauge Zero (Ahd)']) \n",
    "                elif float(relevant_site_details['Cease to flow level']) > 10.:\n",
    "                    mean_stage += float(relevant_site_details['Cease to flow level'])\n",
    "                    stage_file_df['Mean'] = stage_file_df['Mean'] + float(relevant_site_details['Cease to flow level']) \n",
    "                elif float(relevant_site_details['Min value']) > 10.:\n",
    "                    mean_stage += float(relevant_site_details['Min value'])\n",
    "                    stage_file_df['Mean'] = stage_file_df['Mean'] + float(relevant_site_details['Min value']) \n",
    "                else:\n",
    "                    print 'Mean value of stage less than 10m and Gauge Zero not known, so ignoring for: ', stage_file\n",
    "                    continue\n",
    "\n",
    "            mean_stage = stage_file_df['Mean'].mean()\n",
    "            high_stage = stage_file_df['Mean'].max()\n",
    "            low_fifth_stage = stage_file_df['Mean'].quantile(q=0.05)\n",
    "            low_stage = stage_file_df['Mean'].min()\n",
    "\n",
    "            relevant_data['Site ID'] += [relevant_site_details['Site Id'].values[0]]\n",
    "            relevant_data['Site Name'] += [relevant_site_details['Site Name'].values[0]]\n",
    "            relevant_data['Easting'] += [float(relevant_site_details['Easting'])]\n",
    "            relevant_data['Northing'] += [float(relevant_site_details['Northing'])]\n",
    "            relevant_data['Mean stage (m)'] += [mean_stage]\n",
    "            relevant_data['High stage (m)'] += [high_stage]\n",
    "            relevant_data['5th percentile stage (m)'] += [low_fifth_stage]\n",
    "            relevant_data['Low stage (m)'] += [low_stage]\n",
    "            relevant_data['Gauge Zero (Ahd)'] += [float(relevant_site_details['Gauge Zero (Ahd)'])]\n",
    "        # end if\n",
    "        processed_river_sites_stage_ts[stage_id] = stage_file_df        \n",
    "    # end for\n",
    "\n",
    "    processed_river_sites_stage = pd.DataFrame(relevant_data)\n",
    "    processed_river_sites_stage.to_csv(os.path.join(working_directory,'processed_river_sites_stage.csv'))\n",
    "\n",
    "    if summary:\n",
    "        return processed_river_sites_stage_ts, processed_river_sites_stage\n",
    "    else:\n",
    "        return processed_river_sites_stage_ts"
   ]
  },
  {
   "cell_type": "code",
   "execution_count": 57,
   "metadata": {
    "collapsed": false
   },
   "outputs": [
    {
     "name": "stdout",
     "output_type": "stream",
     "text": [
      "Mean value of stage less than 10m and Gauge Zero not known, so ignoring for:  406262.MeanWaterLevel.csv\n",
      "Mean value of stage less than 10m and Gauge Zero not known, so ignoring for:  406275.MeanWaterLevel.csv\n",
      "Mean value of stage less than 10m and Gauge Zero not known, so ignoring for:  406276.MeanWaterLevel.csv\n"
     ]
    }
   ],
   "source": [
    "levels_ts, levels = getStage(sites=Campaspe['Site Id'].tolist())"
   ]
  },
  {
   "cell_type": "code",
   "execution_count": 58,
   "metadata": {
    "collapsed": true
   },
   "outputs": [],
   "source": [
    "levels =  levels.sort_values('Northing')"
   ]
  },
  {
   "cell_type": "code",
   "execution_count": 59,
   "metadata": {
    "collapsed": false
   },
   "outputs": [
    {
     "data": {
      "text/plain": [
       "[<matplotlib.text.Text at 0x9cf2198>,\n",
       " <matplotlib.text.Text at 0xae68a20>,\n",
       " <matplotlib.text.Text at 0xaecb7b8>,\n",
       " <matplotlib.text.Text at 0xaecba20>,\n",
       " <matplotlib.text.Text at 0xbecf9b0>,\n",
       " <matplotlib.text.Text at 0xadf27b8>,\n",
       " <matplotlib.text.Text at 0xcb8f780>]"
      ]
     },
     "execution_count": 59,
     "metadata": {},
     "output_type": "execute_result"
    },
    {
     "data": {
      "image/png": "[encoded data removed]",
      "text/plain": [
       "<matplotlib.figure.Figure at 0x9cf2a58>"
      ]
     },
     "metadata": {},
     "output_type": "display_data"
    }
   ],
   "source": [
    "ax = levels.plot(kind='bar', x=['Site ID'], y=['Mean stage (m)'])\n",
    "labels = ax.get_xmajorticklabels()\n",
    "ax.set_xticklabels(labels, rotation=45)"
   ]
  },
  {
   "cell_type": "code",
   "execution_count": null,
   "metadata": {
    "collapsed": true
   },
   "outputs": [],
   "source": []
  }
 ],
 "metadata": {
  "anaconda-cloud": {},
  "kernelspec": {
   "display_name": "Python [default]",
   "language": "python",
   "name": "python2"
  },
  "language_info": {
   "codemirror_mode": {
    "name": "ipython",
    "version": 2
   },
   "file_extension": ".py",
   "mimetype": "text/x-python",
   "name": "python",
   "nbconvert_exporter": "python",
   "pygments_lexer": "ipython2",
   "version": "2.7.12"
  }
 },
 "nbformat": 4,
 "nbformat_minor": 2
}
